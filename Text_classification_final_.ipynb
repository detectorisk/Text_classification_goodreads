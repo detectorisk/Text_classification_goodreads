{
  "cells": [
    {
      "cell_type": "markdown",
      "metadata": {
        "id": "4bU4by-AlSGe"
      },
      "source": [
        "#Overview:\n",
        "\n",
        "The focus of this project is to predict the review scores on goodreads from just review text written by users. This kind of text classification (into 5 classes of scores) has been done through deep neural networks. These results, both show the significance of using a neural network for this problem, as well as the need to move toward more computationally complex and deep networks. \n",
        "\n",
        "We started with some descriptory analysis, to see general trends within our training data. Then, we built a basic machine learning text classification model using logistical regression. Having that as our ML baseline, we built a simple 3 layer neural network, using 1 dense layer, 1 embedding layer, and one output layer. We looked for accuracy levels in both test and train datasets, and checked if our results are robust, avoiding overfitting (as these models can often get). After this, we began investigating optimal number of neurons within this basic 3 layer neural network by checking model performance for varying neurons. \n",
        "\n",
        "From there, we built a more complex neural network, namely with a layer of a 1-D Convolutional network. Here again, we try to look for the \"ideal\" activation function in the output layer, though our research suggested that for multi-label classifications, softmax activation functions are often the [norm](https://machinelearningmastery.com/softmax-activation-function-with-python/). \n",
        "\n",
        "Lastly, we tried some deep neural networks such as LSTM to better our performance. Our initial observations were that these models were time and memory consuming, and allowed for less manipulation given our limited capacity of system availability. Further, we found these models to add very little to the overall accuracy over our test dataset. This perhaps points toward more preprocessing in our input data.\n",
        "\n",
        "#Method:\n",
        "\n",
        "1. Data exploration : Our initial finding was that the ratings are skewed in favour of high ratings (more than 3). However, the number of words used per review seem to be similar across all ratings. This helps us introduce Bag-of-words tokenisation methods to vectorize our text data into numeric form. \n",
        "\n",
        "2. Text pre-processing : As such there doesn't seem to be large outliers in the rating data column which need to be dealt with. As for the text data, as mentioned before, we used tokenization methods. For the ML baseline model we used the \"CountVectorizer\" to transform the data into numeric vectors. However, for all subsequent neural networks we used \"Tokenizer\" function from keras and then converted our tokens into sequences with a built in \"text_to_sequence\" function. \n",
        "\n",
        "  In the former method, the tokenization method converts all sentences into token vectors, and then takes them as features into the model. However, since we are dealing with review text, most often they do not have a lower or upper bound in terms of words, the number of features in this case for each input would differ. This can also bring potential bias into the model. To counter this, we have used the \"Tokenizer\", \"text_to_sequence\" and \"pad_sequence\" functions from keras. \n",
        "\n",
        "3. Train/Test Validation Strategy: Following general practice, for the ML baseline model we split all our labelled data (training dataset) into 80% training and 20% testing dataset. At this point, since we are using a baseline ML model, with no recourse for optimizing our accuracy levels, we didn't consider a validation dataset. \n",
        "\n",
        "  For all the neural networks models subsequently, we first split our labelled data in 80% training and 20% testing data. Of the training dataset thus obtained, we split it further into 75% actual training data, and 25% validation data. Here, the validation data is important to consider, as we will use it to validate our accuracy and loss results through each epoch, and our model wil try to optimize. "
      ]
    },
    {
      "cell_type": "code",
      "execution_count": 3,
      "metadata": {
        "id": "A-0boyrxlUSM"
      },
      "outputs": [],
      "source": [
        "#Importing packages \n",
        "import numpy as np \n",
        "import pandas as pd \n",
        "from pandas import Series, DataFrame\n",
        "import matplotlib.pyplot as plt \n",
        "import tensorflow as tf \n",
        "import tensorflow_hub as hub \n",
        "from google.colab import drive\n",
        "from sklearn.model_selection import train_test_split\n",
        "from keras.utils import plot_model\n",
        "from sklearn.feature_extraction.text import CountVectorizer\n",
        "from sklearn.linear_model import LogisticRegression\n",
        "from keras.optimizers import SGD\n",
        "from sklearn.metrics import roc_auc_score\n",
        "from keras.layers import Dense, Input, GlobalMaxPooling1D\n",
        "from keras.layers import Conv1D, MaxPooling1D, Embedding, Flatten, Conv2D\n",
        "from sklearn.metrics import roc_auc_score\n",
        "from sklearn import preprocessing\n",
        "from keras.preprocessing.text import Tokenizer\n",
        "from keras.utils import pad_sequences\n",
        "from keras import layers \n",
        "from keras import Sequential\n",
        "from sklearn.multioutput import MultiOutputClassifier\n",
        "import math\n",
        "from sklearn.metrics import classification_report"
      ]
    },
    {
      "cell_type": "code",
      "execution_count": 4,
      "metadata": {
        "colab": {
          "base_uri": "https://localhost:8080/"
        },
        "id": "-cIpv1kgbmvj",
        "outputId": "b84594a7-edbf-4165-ed36-2da69b46da38"
      },
      "outputs": [
        {
          "name": "stdout",
          "output_type": "stream",
          "text": [
            "Mounted at /content/drive\n"
          ]
        }
      ],
      "source": [
        "#Mounting drive so I can retrieve my csv files from the drive\n",
        "drive.mount('/content/drive')"
      ]
    },
    {
      "cell_type": "code",
      "execution_count": 5,
      "metadata": {
        "id": "uGTqmvrgMPRn"
      },
      "outputs": [],
      "source": [
        "#Reading the training data csv file into a pandas dataframe\n",
        "reads = pd.read_csv(\"drive/My Drive/Colab Notebooks/my_goodreads_train.csv\")"
      ]
    },
    {
      "cell_type": "code",
      "execution_count": 6,
      "metadata": {
        "colab": {
          "base_uri": "https://localhost:8080/",
          "height": 617
        },
        "id": "Fyw71ZHqZkZj",
        "outputId": "889d1f1b-99b9-4809-bf96-e91db6b6ac21"
      },
      "outputs": [
        {
          "data": {
            "text/html": [
              "\n",
              "  <div id=\"df-8f511d0b-34fc-44b9-bc76-66c9cbf1f9c9\">\n",
              "    <div class=\"colab-df-container\">\n",
              "      <div>\n",
              "<style scoped>\n",
              "    .dataframe tbody tr th:only-of-type {\n",
              "        vertical-align: middle;\n",
              "    }\n",
              "\n",
              "    .dataframe tbody tr th {\n",
              "        vertical-align: top;\n",
              "    }\n",
              "\n",
              "    .dataframe thead th {\n",
              "        text-align: right;\n",
              "    }\n",
              "</style>\n",
              "<table border=\"1\" class=\"dataframe\">\n",
              "  <thead>\n",
              "    <tr style=\"text-align: right;\">\n",
              "      <th></th>\n",
              "      <th>user_id</th>\n",
              "      <th>book_id</th>\n",
              "      <th>review_id</th>\n",
              "      <th>rating</th>\n",
              "      <th>review_text</th>\n",
              "      <th>date_added</th>\n",
              "      <th>date_updated</th>\n",
              "      <th>read_at</th>\n",
              "      <th>started_at</th>\n",
              "      <th>n_votes</th>\n",
              "      <th>n_comments</th>\n",
              "    </tr>\n",
              "  </thead>\n",
              "  <tbody>\n",
              "    <tr>\n",
              "      <th>0</th>\n",
              "      <td>1da3dcc13cf360b9ecb06251e86237535</td>\n",
              "      <td>182091851</td>\n",
              "      <td>1c949b5dedf860514ec8b97ad158c9f4f</td>\n",
              "      <td>5</td>\n",
              "      <td>I thought this was a very good historical fant...</td>\n",
              "      <td>Fri Feb 01 16:44:16 -0800 2013</td>\n",
              "      <td>Tue Oct 25 18:49:25 -0700 2016</td>\n",
              "      <td>Sat May 04 00:00:00 -0700 2013</td>\n",
              "      <td>Thu Apr 25 00:00:00 -0700 2013</td>\n",
              "      <td>5</td>\n",
              "      <td>6</td>\n",
              "    </tr>\n",
              "    <tr>\n",
              "      <th>1</th>\n",
              "      <td>1ae436441b6153473ef907aed1006a159</td>\n",
              "      <td>1451461</td>\n",
              "      <td>112ee86a20d7e4308c0a054f8b03128cd</td>\n",
              "      <td>5</td>\n",
              "      <td>I've had this book recommended to me more than...</td>\n",
              "      <td>Sun Nov 08 12:10:16 -0800 2015</td>\n",
              "      <td>Sun Nov 08 12:24:59 -0800 2015</td>\n",
              "      <td>Tue May 05 00:00:00 -0700 2015</td>\n",
              "      <td>Sun May 03 00:00:00 -0700 2015</td>\n",
              "      <td>0</td>\n",
              "      <td>0</td>\n",
              "    </tr>\n",
              "    <tr>\n",
              "      <th>2</th>\n",
              "      <td>1aa5e9d859b0c0737f4b99a07edf19c88</td>\n",
              "      <td>13483572</td>\n",
              "      <td>1253729b67f301b75a0f26e85f6d6fb31</td>\n",
              "      <td>5</td>\n",
              "      <td>Seriously! You go and throw that twist into th...</td>\n",
              "      <td>Wed Oct 10 02:07:19 -0700 2012</td>\n",
              "      <td>Sat Apr 27 00:40:19 -0700 2013</td>\n",
              "      <td>Sat Apr 27 00:40:19 -0700 2013</td>\n",
              "      <td>Thu Apr 25 00:00:00 -0700 2013</td>\n",
              "      <td>0</td>\n",
              "      <td>0</td>\n",
              "    </tr>\n",
              "    <tr>\n",
              "      <th>3</th>\n",
              "      <td>1940c22aba67c3d49ccd37891c52c9f51</td>\n",
              "      <td>131585171</td>\n",
              "      <td>1ae0005e94dce0dc5c18d6ae2b4a329ab</td>\n",
              "      <td>4</td>\n",
              "      <td>Gosh!!! I'm still not recovering from the effi...</td>\n",
              "      <td>Thu Dec 05 00:45:29 -0800 2013</td>\n",
              "      <td>Thu Dec 05 00:50:17 -0800 2013</td>\n",
              "      <td>Thu Dec 05 00:50:17 -0800 2013</td>\n",
              "      <td>Wed Dec 04 00:00:00 -0800 2013</td>\n",
              "      <td>5</td>\n",
              "      <td>0</td>\n",
              "    </tr>\n",
              "    <tr>\n",
              "      <th>4</th>\n",
              "      <td>15e03534fccd0e7e1849d712ab9e44342</td>\n",
              "      <td>195643271</td>\n",
              "      <td>1d8357d2abdcc656635c5459c1feec761</td>\n",
              "      <td>3</td>\n",
              "      <td>3.5 stars rounded down. I can't help it, I jus...</td>\n",
              "      <td>Wed Mar 15 18:08:14 -0700 2017</td>\n",
              "      <td>Wed Jul 05 12:55:32 -0700 2017</td>\n",
              "      <td>Wed Apr 12 12:17:07 -0700 2017</td>\n",
              "      <td>Tue Apr 11 00:00:00 -0700 2017</td>\n",
              "      <td>0</td>\n",
              "      <td>0</td>\n",
              "    </tr>\n",
              "  </tbody>\n",
              "</table>\n",
              "</div>\n",
              "      <button class=\"colab-df-convert\" onclick=\"convertToInteractive('df-8f511d0b-34fc-44b9-bc76-66c9cbf1f9c9')\"\n",
              "              title=\"Convert this dataframe to an interactive table.\"\n",
              "              style=\"display:none;\">\n",
              "        \n",
              "  <svg xmlns=\"http://www.w3.org/2000/svg\" height=\"24px\"viewBox=\"0 0 24 24\"\n",
              "       width=\"24px\">\n",
              "    <path d=\"M0 0h24v24H0V0z\" fill=\"none\"/>\n",
              "    <path d=\"M18.56 5.44l.94 2.06.94-2.06 2.06-.94-2.06-.94-.94-2.06-.94 2.06-2.06.94zm-11 1L8.5 8.5l.94-2.06 2.06-.94-2.06-.94L8.5 2.5l-.94 2.06-2.06.94zm10 10l.94 2.06.94-2.06 2.06-.94-2.06-.94-.94-2.06-.94 2.06-2.06.94z\"/><path d=\"M17.41 7.96l-1.37-1.37c-.4-.4-.92-.59-1.43-.59-.52 0-1.04.2-1.43.59L10.3 9.45l-7.72 7.72c-.78.78-.78 2.05 0 2.83L4 21.41c.39.39.9.59 1.41.59.51 0 1.02-.2 1.41-.59l7.78-7.78 2.81-2.81c.8-.78.8-2.07 0-2.86zM5.41 20L4 18.59l7.72-7.72 1.47 1.35L5.41 20z\"/>\n",
              "  </svg>\n",
              "      </button>\n",
              "      \n",
              "  <style>\n",
              "    .colab-df-container {\n",
              "      display:flex;\n",
              "      flex-wrap:wrap;\n",
              "      gap: 12px;\n",
              "    }\n",
              "\n",
              "    .colab-df-convert {\n",
              "      background-color: #E8F0FE;\n",
              "      border: none;\n",
              "      border-radius: 50%;\n",
              "      cursor: pointer;\n",
              "      display: none;\n",
              "      fill: #1967D2;\n",
              "      height: 32px;\n",
              "      padding: 0 0 0 0;\n",
              "      width: 32px;\n",
              "    }\n",
              "\n",
              "    .colab-df-convert:hover {\n",
              "      background-color: #E2EBFA;\n",
              "      box-shadow: 0px 1px 2px rgba(60, 64, 67, 0.3), 0px 1px 3px 1px rgba(60, 64, 67, 0.15);\n",
              "      fill: #174EA6;\n",
              "    }\n",
              "\n",
              "    [theme=dark] .colab-df-convert {\n",
              "      background-color: #3B4455;\n",
              "      fill: #D2E3FC;\n",
              "    }\n",
              "\n",
              "    [theme=dark] .colab-df-convert:hover {\n",
              "      background-color: #434B5C;\n",
              "      box-shadow: 0px 1px 3px 1px rgba(0, 0, 0, 0.15);\n",
              "      filter: drop-shadow(0px 1px 2px rgba(0, 0, 0, 0.3));\n",
              "      fill: #FFFFFF;\n",
              "    }\n",
              "  </style>\n",
              "\n",
              "      <script>\n",
              "        const buttonEl =\n",
              "          document.querySelector('#df-8f511d0b-34fc-44b9-bc76-66c9cbf1f9c9 button.colab-df-convert');\n",
              "        buttonEl.style.display =\n",
              "          google.colab.kernel.accessAllowed ? 'block' : 'none';\n",
              "\n",
              "        async function convertToInteractive(key) {\n",
              "          const element = document.querySelector('#df-8f511d0b-34fc-44b9-bc76-66c9cbf1f9c9');\n",
              "          const dataTable =\n",
              "            await google.colab.kernel.invokeFunction('convertToInteractive',\n",
              "                                                     [key], {});\n",
              "          if (!dataTable) return;\n",
              "\n",
              "          const docLinkHtml = 'Like what you see? Visit the ' +\n",
              "            '<a target=\"_blank\" href=https://colab.research.google.com/notebooks/data_table.ipynb>data table notebook</a>'\n",
              "            + ' to learn more about interactive tables.';\n",
              "          element.innerHTML = '';\n",
              "          dataTable['output_type'] = 'display_data';\n",
              "          await google.colab.output.renderOutput(dataTable, element);\n",
              "          const docLink = document.createElement('div');\n",
              "          docLink.innerHTML = docLinkHtml;\n",
              "          element.appendChild(docLink);\n",
              "        }\n",
              "      </script>\n",
              "    </div>\n",
              "  </div>\n",
              "  "
            ],
            "text/plain": [
              "                             user_id    book_id  \\\n",
              "0  1da3dcc13cf360b9ecb06251e86237535  182091851   \n",
              "1  1ae436441b6153473ef907aed1006a159    1451461   \n",
              "2  1aa5e9d859b0c0737f4b99a07edf19c88   13483572   \n",
              "3  1940c22aba67c3d49ccd37891c52c9f51  131585171   \n",
              "4  15e03534fccd0e7e1849d712ab9e44342  195643271   \n",
              "\n",
              "                           review_id  rating  \\\n",
              "0  1c949b5dedf860514ec8b97ad158c9f4f       5   \n",
              "1  112ee86a20d7e4308c0a054f8b03128cd       5   \n",
              "2  1253729b67f301b75a0f26e85f6d6fb31       5   \n",
              "3  1ae0005e94dce0dc5c18d6ae2b4a329ab       4   \n",
              "4  1d8357d2abdcc656635c5459c1feec761       3   \n",
              "\n",
              "                                         review_text  \\\n",
              "0  I thought this was a very good historical fant...   \n",
              "1  I've had this book recommended to me more than...   \n",
              "2  Seriously! You go and throw that twist into th...   \n",
              "3  Gosh!!! I'm still not recovering from the effi...   \n",
              "4  3.5 stars rounded down. I can't help it, I jus...   \n",
              "\n",
              "                       date_added                    date_updated  \\\n",
              "0  Fri Feb 01 16:44:16 -0800 2013  Tue Oct 25 18:49:25 -0700 2016   \n",
              "1  Sun Nov 08 12:10:16 -0800 2015  Sun Nov 08 12:24:59 -0800 2015   \n",
              "2  Wed Oct 10 02:07:19 -0700 2012  Sat Apr 27 00:40:19 -0700 2013   \n",
              "3  Thu Dec 05 00:45:29 -0800 2013  Thu Dec 05 00:50:17 -0800 2013   \n",
              "4  Wed Mar 15 18:08:14 -0700 2017  Wed Jul 05 12:55:32 -0700 2017   \n",
              "\n",
              "                          read_at                      started_at  n_votes  \\\n",
              "0  Sat May 04 00:00:00 -0700 2013  Thu Apr 25 00:00:00 -0700 2013        5   \n",
              "1  Tue May 05 00:00:00 -0700 2015  Sun May 03 00:00:00 -0700 2015        0   \n",
              "2  Sat Apr 27 00:40:19 -0700 2013  Thu Apr 25 00:00:00 -0700 2013        0   \n",
              "3  Thu Dec 05 00:50:17 -0800 2013  Wed Dec 04 00:00:00 -0800 2013        5   \n",
              "4  Wed Apr 12 12:17:07 -0700 2017  Tue Apr 11 00:00:00 -0700 2017        0   \n",
              "\n",
              "   n_comments  \n",
              "0           6  \n",
              "1           0  \n",
              "2           0  \n",
              "3           0  \n",
              "4           0  "
            ]
          },
          "execution_count": 6,
          "metadata": {},
          "output_type": "execute_result"
        }
      ],
      "source": [
        "#Checking the first 5 values in the dataframe\n",
        "reads.head(5)"
      ]
    },
    {
      "cell_type": "code",
      "execution_count": 7,
      "metadata": {
        "colab": {
          "base_uri": "https://localhost:8080/"
        },
        "id": "BV6SyPVKg7Xd",
        "outputId": "72a0f3e8-b6ca-466b-e170-28bbaf12f0e8"
      },
      "outputs": [
        {
          "data": {
            "text/plain": [
              "(700000, 2)"
            ]
          },
          "execution_count": 7,
          "metadata": {},
          "output_type": "execute_result"
        }
      ],
      "source": [
        "#Carrying forward only two columns, review text (independant variable) and rating (dependant variable)\n",
        "reads_use=reads[['review_text', \"rating\"]]\n",
        "reads_use.shape"
      ]
    },
    {
      "cell_type": "code",
      "execution_count": 8,
      "metadata": {
        "colab": {
          "base_uri": "https://localhost:8080/",
          "height": 470
        },
        "id": "ihwJGfZq0cB8",
        "outputId": "c0189239-714e-4f59-83fb-97d0c39b0a87"
      },
      "outputs": [
        {
          "data": {
            "text/plain": [
              "array([[<Axes: title={'center': 'rating'}>]], dtype=object)"
            ]
          },
          "execution_count": 8,
          "metadata": {},
          "output_type": "execute_result"
        },
        {
          "data": {
            "image/png": "[encoded data removed]",
            "text/plain": [
              "<Figure size 640x480 with 1 Axes>"
            ]
          },
          "metadata": {},
          "output_type": "display_data"
        }
      ],
      "source": [
        "#Distribution of ratings across the dataset \n",
        "reads_use.hist(['rating'])"
      ]
    },
    {
      "cell_type": "code",
      "execution_count": 8,
      "metadata": {
        "colab": {
          "base_uri": "https://localhost:8080/",
          "height": 0
        },
        "id": "lrICKIBfesEF",
        "outputId": "77c278a8-b674-4ca4-b43c-96f30d66b8cb"
      },
      "outputs": [
        {
          "name": "stderr",
          "output_type": "stream",
          "text": [
            "<ipython-input-8-edddd688d6d6>:2: SettingWithCopyWarning: \n",
            "A value is trying to be set on a copy of a slice from a DataFrame.\n",
            "Try using .loc[row_indexer,col_indexer] = value instead\n",
            "\n",
            "See the caveats in the documentation: https://pandas.pydata.org/pandas-docs/stable/user_guide/indexing.html#returning-a-view-versus-a-copy\n",
            "  reads_use['word_count'] = reads_use['review_text'].apply(lambda x: len(str(x).split()))\n"
          ]
        }
      ],
      "source": [
        "#Counting the number of words used in each text review\n",
        "reads_use['word_count'] = reads_use['review_text'].apply(lambda x: len(str(x).split()))"
      ]
    },
    {
      "cell_type": "code",
      "execution_count": 9,
      "metadata": {
        "colab": {
          "base_uri": "https://localhost:8080/",
          "height": 335
        },
        "id": "Bh5Vag0ceZh6",
        "outputId": "0f375144-1b1b-49fd-92cb-5750e13fdb39"
      },
      "outputs": [
        {
          "data": {
            "image/png": "[encoded data removed]",
            "text/plain": [
              "<Figure size 2000x400 with 5 Axes>"
            ]
          },
          "metadata": {},
          "output_type": "display_data"
        }
      ],
      "source": [
        "#Plotting the number of words in a text review per rating score\n",
        "fig,(ax1,ax2, ax3, ax4, ax5)=plt.subplots(1,5,figsize=(20,4))\n",
        "rating1=reads_use[reads_use['rating']==1]['word_count']\n",
        "ax1.hist(rating1,color='red')\n",
        "ax1.set_title('Rating score : 1')\n",
        "raiting2=reads_use[reads_use['rating']==2]['word_count']\n",
        "ax2.hist(raiting2,color='green')\n",
        "ax2.set_title('Rating score : 2')\n",
        "raiting3=reads_use[reads_use['rating']==3]['word_count']\n",
        "ax3.hist(raiting3,color='blue')\n",
        "ax3.set_title('Rating score : 3')\n",
        "raiting4=reads_use[reads_use['rating']==4]['word_count']\n",
        "ax4.hist(raiting4,color='yellow')\n",
        "ax4.set_title('Rating score : 4')\n",
        "raiting5=reads_use[reads_use['rating']==5]['word_count']\n",
        "ax5.hist(raiting5,color='brown')\n",
        "ax5.set_title('Rating score : 5')\n",
        "fig.suptitle('Words per rating score')\n",
        "plt.show()\n"
      ]
    },
    {
      "cell_type": "markdown",
      "metadata": {
        "id": "9bqA845TphpN"
      },
      "source": [
        "From the graph above, it is clear that the average number of words per rating score is uniform throughout different rating scores. This justifies a Bag-of-words tokenization method to classify text that accounts for the frequency of words, making sure there is no obvious bias in our classification."
      ]
    },
    {
      "cell_type": "code",
      "execution_count": 9,
      "metadata": {
        "id": "-LzvKXxYbZzX"
      },
      "outputs": [],
      "source": [
        "#Dividing our dataset into input and output data\n",
        "y = reads_use['rating']\n",
        "x=reads_use['review_text']"
      ]
    },
    {
      "cell_type": "markdown",
      "metadata": {
        "id": "JaTB1V3rGOpG"
      },
      "source": [
        "#Baseline ML classification model using text vectorization\n",
        "\n",
        "We start with a Baseline ML logistical regression model for classifying our review text into 5 labels. For this we have used a multinomial classification model, with 2000 iterations (as lower iterations were not sufficient enough to run the model fully). The accuracy obtained seems to be about 51%, which us pretty high, perhaps owing to possible overfitting in the model. This is because we considered all the tokens (words) in our input, even stopwords, redundant words, and perhaps those that are rare or mispelled. It is likely with untested text reviews, this model won't be able to generalize well. "
      ]
    },
    {
      "cell_type": "markdown",
      "metadata": {
        "id": "-a1g_mAo2q0F"
      },
      "source": [
        "**Data preprocessing** \n",
        "\n",
        "As a baseline ML model we have used a Bag-of-words model to tokenize reviews, and thus accounted for the multiplicity of words, discounting for grammer and sentence cosntruction, or even individual review biases (perhaps there are reviews with that are much longer than others). Then we have inputted this tokenized feature into a simple logistical multinomial regression classifier. Here, we have used vectorization as a method. \n",
        "\n",
        "Vectorization is a method to convert text into numeric vectors, thus increasing the processing speed of the neural network, and help the model optimize faster. Here, we have used a simple CountVectorizer vectorization method, which makes tokens out of each word, and creates a vocabulary of unique words. Then, it creates a sparse matrix which accounts for the frequency of the word in dataset, where each column is a unique word.\n"
      ]
    },
    {
      "cell_type": "code",
      "execution_count": 11,
      "metadata": {
        "colab": {
          "base_uri": "https://localhost:8080/",
          "height": 75
        },
        "id": "D4a5bbOoGJrC",
        "outputId": "894d0cd7-80c9-4588-87bd-0cbd849a23f2"
      },
      "outputs": [
        {
          "data": {
            "text/html": [
              "<style>#sk-container-id-1 {color: black;background-color: white;}#sk-container-id-1 pre{padding: 0;}#sk-container-id-1 div.sk-toggleable {background-color: white;}#sk-container-id-1 label.sk-toggleable__label {cursor: pointer;display: block;width: 100%;margin-bottom: 0;padding: 0.3em;box-sizing: border-box;text-align: center;}#sk-container-id-1 label.sk-toggleable__label-arrow:before {content: \"▸\";float: left;margin-right: 0.25em;color: #696969;}#sk-container-id-1 label.sk-toggleable__label-arrow:hover:before {color: black;}#sk-container-id-1 div.sk-estimator:hover label.sk-toggleable__label-arrow:before {color: black;}#sk-container-id-1 div.sk-toggleable__content {max-height: 0;max-width: 0;overflow: hidden;text-align: left;background-color: #f0f8ff;}#sk-container-id-1 div.sk-toggleable__content pre {margin: 0.2em;color: black;border-radius: 0.25em;background-color: #f0f8ff;}#sk-container-id-1 input.sk-toggleable__control:checked~div.sk-toggleable__content {max-height: 200px;max-width: 100%;overflow: auto;}#sk-container-id-1 input.sk-toggleable__control:checked~label.sk-toggleable__label-arrow:before {content: \"▾\";}#sk-container-id-1 div.sk-estimator input.sk-toggleable__control:checked~label.sk-toggleable__label {background-color: #d4ebff;}#sk-container-id-1 div.sk-label input.sk-toggleable__control:checked~label.sk-toggleable__label {background-color: #d4ebff;}#sk-container-id-1 input.sk-hidden--visually {border: 0;clip: rect(1px 1px 1px 1px);clip: rect(1px, 1px, 1px, 1px);height: 1px;margin: -1px;overflow: hidden;padding: 0;position: absolute;width: 1px;}#sk-container-id-1 div.sk-estimator {font-family: monospace;background-color: #f0f8ff;border: 1px dotted black;border-radius: 0.25em;box-sizing: border-box;margin-bottom: 0.5em;}#sk-container-id-1 div.sk-estimator:hover {background-color: #d4ebff;}#sk-container-id-1 div.sk-parallel-item::after {content: \"\";width: 100%;border-bottom: 1px solid gray;flex-grow: 1;}#sk-container-id-1 div.sk-label:hover label.sk-toggleable__label {background-color: #d4ebff;}#sk-container-id-1 div.sk-serial::before {content: \"\";position: absolute;border-left: 1px solid gray;box-sizing: border-box;top: 0;bottom: 0;left: 50%;z-index: 0;}#sk-container-id-1 div.sk-serial {display: flex;flex-direction: column;align-items: center;background-color: white;padding-right: 0.2em;padding-left: 0.2em;position: relative;}#sk-container-id-1 div.sk-item {position: relative;z-index: 1;}#sk-container-id-1 div.sk-parallel {display: flex;align-items: stretch;justify-content: center;background-color: white;position: relative;}#sk-container-id-1 div.sk-item::before, #sk-container-id-1 div.sk-parallel-item::before {content: \"\";position: absolute;border-left: 1px solid gray;box-sizing: border-box;top: 0;bottom: 0;left: 50%;z-index: -1;}#sk-container-id-1 div.sk-parallel-item {display: flex;flex-direction: column;z-index: 1;position: relative;background-color: white;}#sk-container-id-1 div.sk-parallel-item:first-child::after {align-self: flex-end;width: 50%;}#sk-container-id-1 div.sk-parallel-item:last-child::after {align-self: flex-start;width: 50%;}#sk-container-id-1 div.sk-parallel-item:only-child::after {width: 0;}#sk-container-id-1 div.sk-dashed-wrapped {border: 1px dashed gray;margin: 0 0.4em 0.5em 0.4em;box-sizing: border-box;padding-bottom: 0.4em;background-color: white;}#sk-container-id-1 div.sk-label label {font-family: monospace;font-weight: bold;display: inline-block;line-height: 1.2em;}#sk-container-id-1 div.sk-label-container {text-align: center;}#sk-container-id-1 div.sk-container {/* jupyter's `normalize.less` sets `[hidden] { display: none; }` but bootstrap.min.css set `[hidden] { display: none !important; }` so we also need the `!important` here to be able to override the default hidden behavior on the sphinx rendered scikit-learn.org. See: https://github.com/scikit-learn/scikit-learn/issues/21755 */display: inline-block !important;position: relative;}#sk-container-id-1 div.sk-text-repr-fallback {display: none;}</style><div id=\"sk-container-id-1\" class=\"sk-top-container\"><div class=\"sk-text-repr-fallback\"><pre>CountVectorizer(lowercase=False, min_df=0)</pre><b>In a Jupyter environment, please rerun this cell to show the HTML representation or trust the notebook. <br />On GitHub, the HTML representation is unable to render, please try loading this page with nbviewer.org.</b></div><div class=\"sk-container\" hidden><div class=\"sk-item\"><div class=\"sk-estimator sk-toggleable\"><input class=\"sk-toggleable__control sk-hidden--visually\" id=\"sk-estimator-id-1\" type=\"checkbox\" checked><label for=\"sk-estimator-id-1\" class=\"sk-toggleable__label sk-toggleable__label-arrow\">CountVectorizer</label><div class=\"sk-toggleable__content\"><pre>CountVectorizer(lowercase=False, min_df=0)</pre></div></div></div></div></div>"
            ],
            "text/plain": [
              "CountVectorizer(lowercase=False, min_df=0)"
            ]
          },
          "execution_count": 11,
          "metadata": {},
          "output_type": "execute_result"
        }
      ],
      "source": [
        "#Calling on the function\n",
        "vectorizer = CountVectorizer(min_df=0, lowercase=False)\n",
        "vectorizer.fit(x)"
      ]
    },
    {
      "cell_type": "markdown",
      "metadata": {
        "id": "lBcd_oudexVa"
      },
      "source": [
        "Here, we split train and test data in a 4:1 ratio (that is, 80% and 20% respectively)"
      ]
    },
    {
      "cell_type": "code",
      "execution_count": 12,
      "metadata": {
        "id": "D9D5xmg5GJ0J"
      },
      "outputs": [],
      "source": [
        "x_train, x_test, y_train, y_test = train_test_split(x, y, test_size=0.20, random_state=1000)"
      ]
    },
    {
      "cell_type": "code",
      "execution_count": 13,
      "metadata": {
        "id": "jzK4ykWRKabB"
      },
      "outputs": [],
      "source": [
        "#Tokenizing train and test data by creating a vocabulary of all words in the data\n",
        "x_train = vectorizer.transform(x_train)\n",
        "x_test  = vectorizer.transform(x_test)"
      ]
    },
    {
      "cell_type": "code",
      "execution_count": 14,
      "metadata": {
        "colab": {
          "base_uri": "https://localhost:8080/",
          "height": 218
        },
        "id": "yqyd3fvMLKHh",
        "outputId": "989c1b75-b6cc-4454-969f-71c3bcdf2650"
      },
      "outputs": [
        {
          "name": "stderr",
          "output_type": "stream",
          "text": [
            "/usr/local/lib/python3.9/dist-packages/sklearn/linear_model/_logistic.py:458: ConvergenceWarning: lbfgs failed to converge (status=1):\n",
            "STOP: TOTAL NO. of ITERATIONS REACHED LIMIT.\n",
            "\n",
            "Increase the number of iterations (max_iter) or scale the data as shown in:\n",
            "    https://scikit-learn.org/stable/modules/preprocessing.html\n",
            "Please also refer to the documentation for alternative solver options:\n",
            "    https://scikit-learn.org/stable/modules/linear_model.html#logistic-regression\n",
            "  n_iter_i = _check_optimize_result(\n"
          ]
        },
        {
          "data": {
            "text/html": [
              "<style>#sk-container-id-2 {color: black;background-color: white;}#sk-container-id-2 pre{padding: 0;}#sk-container-id-2 div.sk-toggleable {background-color: white;}#sk-container-id-2 label.sk-toggleable__label {cursor: pointer;display: block;width: 100%;margin-bottom: 0;padding: 0.3em;box-sizing: border-box;text-align: center;}#sk-container-id-2 label.sk-toggleable__label-arrow:before {content: \"▸\";float: left;margin-right: 0.25em;color: #696969;}#sk-container-id-2 label.sk-toggleable__label-arrow:hover:before {color: black;}#sk-container-id-2 div.sk-estimator:hover label.sk-toggleable__label-arrow:before {color: black;}#sk-container-id-2 div.sk-toggleable__content {max-height: 0;max-width: 0;overflow: hidden;text-align: left;background-color: #f0f8ff;}#sk-container-id-2 div.sk-toggleable__content pre {margin: 0.2em;color: black;border-radius: 0.25em;background-color: #f0f8ff;}#sk-container-id-2 input.sk-toggleable__control:checked~div.sk-toggleable__content {max-height: 200px;max-width: 100%;overflow: auto;}#sk-container-id-2 input.sk-toggleable__control:checked~label.sk-toggleable__label-arrow:before {content: \"▾\";}#sk-container-id-2 div.sk-estimator input.sk-toggleable__control:checked~label.sk-toggleable__label {background-color: #d4ebff;}#sk-container-id-2 div.sk-label input.sk-toggleable__control:checked~label.sk-toggleable__label {background-color: #d4ebff;}#sk-container-id-2 input.sk-hidden--visually {border: 0;clip: rect(1px 1px 1px 1px);clip: rect(1px, 1px, 1px, 1px);height: 1px;margin: -1px;overflow: hidden;padding: 0;position: absolute;width: 1px;}#sk-container-id-2 div.sk-estimator {font-family: monospace;background-color: #f0f8ff;border: 1px dotted black;border-radius: 0.25em;box-sizing: border-box;margin-bottom: 0.5em;}#sk-container-id-2 div.sk-estimator:hover {background-color: #d4ebff;}#sk-container-id-2 div.sk-parallel-item::after {content: \"\";width: 100%;border-bottom: 1px solid gray;flex-grow: 1;}#sk-container-id-2 div.sk-label:hover label.sk-toggleable__label {background-color: #d4ebff;}#sk-container-id-2 div.sk-serial::before {content: \"\";position: absolute;border-left: 1px solid gray;box-sizing: border-box;top: 0;bottom: 0;left: 50%;z-index: 0;}#sk-container-id-2 div.sk-serial {display: flex;flex-direction: column;align-items: center;background-color: white;padding-right: 0.2em;padding-left: 0.2em;position: relative;}#sk-container-id-2 div.sk-item {position: relative;z-index: 1;}#sk-container-id-2 div.sk-parallel {display: flex;align-items: stretch;justify-content: center;background-color: white;position: relative;}#sk-container-id-2 div.sk-item::before, #sk-container-id-2 div.sk-parallel-item::before {content: \"\";position: absolute;border-left: 1px solid gray;box-sizing: border-box;top: 0;bottom: 0;left: 50%;z-index: -1;}#sk-container-id-2 div.sk-parallel-item {display: flex;flex-direction: column;z-index: 1;position: relative;background-color: white;}#sk-container-id-2 div.sk-parallel-item:first-child::after {align-self: flex-end;width: 50%;}#sk-container-id-2 div.sk-parallel-item:last-child::after {align-self: flex-start;width: 50%;}#sk-container-id-2 div.sk-parallel-item:only-child::after {width: 0;}#sk-container-id-2 div.sk-dashed-wrapped {border: 1px dashed gray;margin: 0 0.4em 0.5em 0.4em;box-sizing: border-box;padding-bottom: 0.4em;background-color: white;}#sk-container-id-2 div.sk-label label {font-family: monospace;font-weight: bold;display: inline-block;line-height: 1.2em;}#sk-container-id-2 div.sk-label-container {text-align: center;}#sk-container-id-2 div.sk-container {/* jupyter's `normalize.less` sets `[hidden] { display: none; }` but bootstrap.min.css set `[hidden] { display: none !important; }` so we also need the `!important` here to be able to override the default hidden behavior on the sphinx rendered scikit-learn.org. See: https://github.com/scikit-learn/scikit-learn/issues/21755 */display: inline-block !important;position: relative;}#sk-container-id-2 div.sk-text-repr-fallback {display: none;}</style><div id=\"sk-container-id-2\" class=\"sk-top-container\"><div class=\"sk-text-repr-fallback\"><pre>LogisticRegression(max_iter=2000, multi_class=&#x27;multinomial&#x27;)</pre><b>In a Jupyter environment, please rerun this cell to show the HTML representation or trust the notebook. <br />On GitHub, the HTML representation is unable to render, please try loading this page with nbviewer.org.</b></div><div class=\"sk-container\" hidden><div class=\"sk-item\"><div class=\"sk-estimator sk-toggleable\"><input class=\"sk-toggleable__control sk-hidden--visually\" id=\"sk-estimator-id-2\" type=\"checkbox\" checked><label for=\"sk-estimator-id-2\" class=\"sk-toggleable__label sk-toggleable__label-arrow\">LogisticRegression</label><div class=\"sk-toggleable__content\"><pre>LogisticRegression(max_iter=2000, multi_class=&#x27;multinomial&#x27;)</pre></div></div></div></div></div>"
            ],
            "text/plain": [
              "LogisticRegression(max_iter=2000, multi_class='multinomial')"
            ]
          },
          "execution_count": 14,
          "metadata": {},
          "output_type": "execute_result"
        }
      ],
      "source": [
        "classifier = LogisticRegression(multi_class='multinomial', solver='lbfgs', max_iter=2000)\n",
        "classifier.fit(x_train, y_train)"
      ]
    },
    {
      "cell_type": "code",
      "execution_count": 16,
      "metadata": {
        "colab": {
          "base_uri": "https://localhost:8080/",
          "height": 0
        },
        "id": "h7EJaNpiMgtq",
        "outputId": "825a4c7c-17c1-40d1-b71a-4d0b8211a7ca"
      },
      "outputs": [
        {
          "data": {
            "text/plain": [
              "0.5130142857142858"
            ]
          },
          "execution_count": 16,
          "metadata": {},
          "output_type": "execute_result"
        }
      ],
      "source": [
        "#Accuracy score \n",
        "accuracy_score = classifier.score(x_test, y_test)\n",
        "accuracy_score\n"
      ]
    },
    {
      "cell_type": "code",
      "execution_count": 17,
      "metadata": {
        "id": "1mU-Q135QKi_"
      },
      "outputs": [],
      "source": [
        "#Predicted values \n",
        "y_pred = classifier.predict(x_test)"
      ]
    },
    {
      "cell_type": "markdown",
      "metadata": {
        "id": "lNzehKIDM7SA"
      },
      "source": [
        "# Baseline 3-layer neural network\n",
        "\n",
        "We started off by tokenizing our text reviews. This is elaborated more in the following lines. \n",
        "\n",
        "Then we built as basic 3 layer NN model, with the first layer being an embedding layer. This layer maps our high dimensional input layers into low dimensional input layers, so we can learn better the relationship between our input data. Here, we have specified our embedding output dimension to be 50. Then we added a dense layer, with a relu activation function, taking an arbitrary 32 number of neurons. And finally, we have an output layer, that gives out 6 outputs (5 classes + bias). \n",
        "\n",
        "In model compilation, we have used SGD optimizer to be our loss function, which will take a curved loss function and use gradient descent to find a global minima. One of the reasons that we have taken SGD optimizer is since it gives faster processing speed than Adam optimizer, because it takes a smaller sample of the total data, and also does better than Adam in generalizing (Keskar & Socher, 2017). Further, we have taken a learning rate higher than the default, to enable learning process to be quicker. We believe this slight increase in the learning rate is pretty standard (Bengio, 2012) and won't make much difference in the robustness of our results.\n",
        "\n",
        "Lastly, we explored models with varying neurons by creating a loop function. Through this exercise we established the optimal number of neurons to be 64. "
      ]
    },
    {
      "cell_type": "code",
      "execution_count": 10,
      "metadata": {
        "id": "5I9CZzrZMzKs"
      },
      "outputs": [],
      "source": [
        "#Re-specifying our y and x variables from our master dataset\n",
        "y = reads_use['rating']\n",
        "x=reads_use['review_text']"
      ]
    },
    {
      "cell_type": "markdown",
      "metadata": {
        "id": "0UWwzAnwrS2i"
      },
      "source": [
        "We begin by splitting our data to train and test in a 8:2 ratio. The test data thus obtained is further split into training and validation data in a 3:1 ratio. "
      ]
    },
    {
      "cell_type": "code",
      "execution_count": 11,
      "metadata": {
        "id": "b5_JgDWhf_Q-"
      },
      "outputs": [],
      "source": [
        "x_train1, x_test1, y_train, y_test = train_test_split(x, y, test_size=0.2, random_state=42)\n",
        "x_train1, x_val1, y_train, y_val = train_test_split(x_train1, y_train, test_size=0.25, random_state=42) # Here validation data is 0.25 x 0.8 = 0.2 of the total data"
      ]
    },
    {
      "cell_type": "markdown",
      "metadata": {
        "id": "6nAjv6lT798t"
      },
      "source": [
        "**Tokenisation and text to sequencing**\n",
        "\n",
        "Here, we have used tokenizer to make tokens out of each word so we can construct an entire vocabulary of tokens. Here we have specified the maximum number of words in the vocabulary to considered as 5000, to make processing faster. This is the top 5000 words with the most frequency in the data. Ofcourse, a larger vocabbulary might add to the accuracy of our model, however it would be an additional burden on our model to run. Further, a large vocabulary may lead to overfitting, where more trivial words start being fit into the model. \n",
        "\n",
        "Further, the \"texts_to_sequences\" function from keras helps convert text rows into a series of token sequences. This step helps make sense of the data in terms of indexing it as a sequence, rather than words being considered as disparate tokens."
      ]
    },
    {
      "cell_type": "code",
      "execution_count": 12,
      "metadata": {
        "colab": {
          "base_uri": "https://localhost:8080/"
        },
        "id": "4la8_1aaJYCR",
        "outputId": "e37d94ea-9592-44b4-de62-2ae3e67230bc"
      },
      "outputs": [
        {
          "name": "stdout",
          "output_type": "stream",
          "text": [
            "When I first read The Wasp Factory for a Scottish literature class about five years ago, I was fascinated by the story and the perverse complexity of Frank's character. The book was unlike anything I'd ever read before, so bizarre and macabre that I didn't even know how to process it. \n",
            " But when I just reread it, I found the whole thing rather hokey. None of the intrigue remained from my first go-through, and vaguely remembering the ending, I found the book somewhat desperate, trying to put all the miscellaneous pieces together in some haphazard way to make the book's ending actually work. And maybe it was because I'd already read it and knew how it was all going to end, but I was rolling m eyes at some of the obvious attempts author Iain Banks made to somehow connect the important events in Frank's life. \n",
            " So the story is about a sixteen-year-old kid, the aforementioned Frank, and his extremely tense relationship with his father and brother. Frank is obsessed with shamanistic rituals, including the titular Wasp Factory ceremonies, and he spends much of his time either killing animals or thinking about killing animals. The development of Frank's character is fairly interesting; he has a great voice and personality, and I won't lie: some of the things he narrated made me laugh, just in the way he described his family or the three murders he committed, or that sort of thing. \n",
            " But as I said, the foreshadowing was fairly shoddy at times, and none of the main events really flowed together smoothly, I felt. The events of his father's and brother's lives felt like a lame attempt to provide some (further) dramatics to the story beyond Frank's own adolescent turmoil, and we didn't even hear about some of their issues until late in the book. I was even unimpressed by the pivotal moment in Angus' study at the end of the book: it, too, felt like Banks had psyched me up for a lackluster moment. Definitely nothing from what I remember the first time around.\n",
            "[12, 270, 26, 94, 1640, 18, 5, 728, 10, 4584, 108, 40, 371, 14, 3, 83, 80, 7, 11, 5, 433, 215, 1, 6, 5, 36, 76, 13, 198, 14, 18, 7, 1731, 130, 181, 4094, 1437, 2, 3537, 643, 22, 703, 8, 7, 1770, 452, 5, 238, 64, 6, 1, 1625, 348, 77, 30, 28, 125, 48, 6, 5, 342, 92, 5, 134, 18, 89, 22, 70, 1, 6, 5, 435, 2, 70, 1, 324, 6, 599, 109, 24, 171, 24, 4, 1, 156, 4094, 56, 12, 173, 193, 70, 652, 84, 5, 423, 18, 11, 38, 216, 4618, 25, 1049, 6, 2288, 15, 5, 842]\n"
          ]
        }
      ],
      "source": [
        "tokenizer = Tokenizer(num_words=5000)\n",
        "tokenizer.fit_on_texts(x)\n",
        "x_train = tokenizer.texts_to_sequences(x_train1)\n",
        "x_test = tokenizer.texts_to_sequences(x_test1)\n",
        "x_val = tokenizer.texts_to_sequences(x_val1)\n",
        "vocab_size = len(tokenizer.word_index) + 1  # Since there is an index 0, adding 1 \n",
        "\n",
        "#Checking if the tokenization is done correctly in the right format \n",
        "print(x_train1[5])\n",
        "print(x_train[5])"
      ]
    },
    {
      "cell_type": "markdown",
      "metadata": {
        "id": "v4lAPtx38n18"
      },
      "source": [
        "**Padding sequences** \n",
        "\n",
        "Here, we specify the maximum length of a sequence of words to keep. Now, the list of sequences may most likely be of different sizes, owing to different review text sizes. And so it is important to make them uniform, in order to reduce bias, and increase computational power of our model. Hence, we specify the maximum length of a review to be 200 tokens (words). Tokens more than that will be truncated."
      ]
    },
    {
      "cell_type": "code",
      "execution_count": 13,
      "metadata": {
        "colab": {
          "base_uri": "https://localhost:8080/"
        },
        "id": "Us8yNVwBJYvy",
        "outputId": "676b21c8-cfc5-4007-c1c6-ac04afa1209c"
      },
      "outputs": [
        {
          "name": "stdout",
          "output_type": "stream",
          "text": [
            "[   2  962    4  291   33  172 1267   20 3275    2 1342   16 1775    4\n",
            " 2889  604    2 4001   67 1808 1048   12    9   33  124  111    1 4877\n",
            "   24    1    2   38  231    1 1511    6  212   53   38   66   18   82\n",
            " 2537   26  224    1  828   10    9   21   38 1477    2  299  480   38\n",
            "  202  225   49   18    5 4524 1705   89    3  186  138  357    1    8\n",
            "   84   18    5   14   45  618   37 1262  163    2   56   22  345 4960\n",
            " 2821   33    9    6 1407 4008   19  368   12    9   21  828  442   14\n",
            "  143   37   29  113   15    1  396    4  136  528  373   12   13    9\n",
            "   15   69  307  110    7  105   25   30   18  765   18 2654 1547    2\n",
            "   67  112    3   63   26  100  158    7   10  327  300    2   30    7\n",
            "   18   49  489   62   21  109    4  153  636   15    1  828   21  111\n",
            "  860  708   48   18    7   63   25   10   49  489   53   67  354  134\n",
            "  252   15  216 2004 1711   12    9  338    1  126  752 2824    6 1409\n",
            " 1995 1517 1050 1518 1914   18    5 3148    2   19  140   39 4936 2428\n",
            "    3   26  193   30]\n"
          ]
        }
      ],
      "source": [
        "maxlen = 200\n",
        "x_train = pad_sequences(x_train, padding='post', maxlen=maxlen)\n",
        "x_test = pad_sequences(x_test, padding='post', maxlen=maxlen)\n",
        "x_val = pad_sequences(x_val, padding='post', maxlen=maxlen)\n",
        "\n",
        "print(x_train[0, :])"
      ]
    },
    {
      "cell_type": "code",
      "execution_count": 37,
      "metadata": {
        "id": "prJS1eI9JYyY"
      },
      "outputs": [],
      "source": [
        "#Initial 3-NN model\n",
        "\n",
        "from keras.models import Sequential\n",
        "from keras import layers\n",
        "\n",
        "embedding_dim = 50\n",
        "\n",
        "model1 = Sequential()\n",
        "model1.add(layers.Embedding(input_dim=vocab_size, \n",
        "                           output_dim=embedding_dim, \n",
        "                           input_length=maxlen))\n",
        "model1.add(layers.Flatten())\n",
        "model1.add(layers.Dense(16, activation='relu'))\n",
        "model1.add(layers.Dense(6, activation='softmax'))"
      ]
    },
    {
      "cell_type": "code",
      "execution_count": 38,
      "metadata": {
        "colab": {
          "base_uri": "https://localhost:8080/",
          "height": 0
        },
        "id": "RYAlQR2EJY0g",
        "outputId": "896677fd-086a-44f6-ebbd-73c98eff86bd"
      },
      "outputs": [
        {
          "name": "stdout",
          "output_type": "stream",
          "text": [
            "Model: \"sequential_1\"\n",
            "_________________________________________________________________\n",
            " Layer (type)                Output Shape              Param #   \n",
            "=================================================================\n",
            " embedding_1 (Embedding)     (None, 200, 50)           15714600  \n",
            "                                                                 \n",
            " flatten_1 (Flatten)         (None, 10000)             0         \n",
            "                                                                 \n",
            " dense_2 (Dense)             (None, 16)                160016    \n",
            "                                                                 \n",
            " dense_3 (Dense)             (None, 6)                 102       \n",
            "                                                                 \n",
            "=================================================================\n",
            "Total params: 15,874,718\n",
            "Trainable params: 15,874,718\n",
            "Non-trainable params: 0\n",
            "_________________________________________________________________\n"
          ]
        }
      ],
      "source": [
        "optz= SGD(learning_rate=0.01) \n",
        "model1.compile(optimizer=optz,\n",
        "              loss=tf.keras.losses.SparseCategoricalCrossentropy(),\n",
        "              metrics=['accuracy'])\n",
        "model1.summary()"
      ]
    },
    {
      "cell_type": "code",
      "execution_count": 39,
      "metadata": {
        "id": "60FsEI-OJY5L"
      },
      "outputs": [],
      "source": [
        "#Early stopping\n",
        "early_stopping = tf.keras.callbacks.EarlyStopping(monitor='val_loss', min_delta=0.01)"
      ]
    },
    {
      "cell_type": "markdown",
      "metadata": {
        "id": "04DvdndTcy1f"
      },
      "source": [
        "Here, early stopping is used as a callback from our epochs if the accuracy doesn't increase by atleast 1%. "
      ]
    },
    {
      "cell_type": "code",
      "execution_count": 40,
      "metadata": {
        "colab": {
          "base_uri": "https://localhost:8080/",
          "height": 0
        },
        "id": "ikh_GbHpJY7f",
        "outputId": "3d4c1eb1-fc9d-4afd-8c13-5544cc2cfcd2"
      },
      "outputs": [
        {
          "name": "stdout",
          "output_type": "stream",
          "text": [
            "Epoch 1/8\n",
            "8400/8400 [==============================] - 55s 7ms/step - loss: 1.4415 - accuracy: 0.3494 - val_loss: 1.4224 - val_accuracy: 0.3537\n",
            "Epoch 2/8\n",
            "8400/8400 [==============================] - 54s 6ms/step - loss: 1.3625 - accuracy: 0.3966 - val_loss: 1.3108 - val_accuracy: 0.4341\n",
            "Epoch 3/8\n",
            "8400/8400 [==============================] - 53s 6ms/step - loss: 1.2818 - accuracy: 0.4410 - val_loss: 1.2784 - val_accuracy: 0.4415\n",
            "Epoch 4/8\n",
            "8400/8400 [==============================] - 54s 6ms/step - loss: 1.2230 - accuracy: 0.4654 - val_loss: 1.1956 - val_accuracy: 0.4793\n",
            "Epoch 5/8\n",
            "8400/8400 [==============================] - 53s 6ms/step - loss: 1.1743 - accuracy: 0.4867 - val_loss: 1.1552 - val_accuracy: 0.4954\n",
            "Epoch 6/8\n",
            "8400/8400 [==============================] - 53s 6ms/step - loss: 1.1390 - accuracy: 0.5035 - val_loss: 1.1372 - val_accuracy: 0.5003\n",
            "Epoch 7/8\n",
            "8400/8400 [==============================] - 53s 6ms/step - loss: 1.1135 - accuracy: 0.5156 - val_loss: 1.1320 - val_accuracy: 0.5078\n"
          ]
        }
      ],
      "source": [
        "history1 = model1.fit(x_train, y_train, epochs=8, validation_data=(x_val, y_val), batch_size=50, callbacks=[early_stopping])\n",
        "#accuracy : .50 approx"
      ]
    },
    {
      "cell_type": "code",
      "execution_count": 41,
      "metadata": {
        "colab": {
          "base_uri": "https://localhost:8080/",
          "height": 0
        },
        "id": "wjJoAqCIlg4Z",
        "outputId": "63cf485f-6552-4dd3-819c-c3ed722ea654"
      },
      "outputs": [
        {
          "data": {
            "text/plain": [
              "{'loss': [1.4414719343185425,\n",
              "  1.3624937534332275,\n",
              "  1.2817879915237427,\n",
              "  1.2230463027954102,\n",
              "  1.174343228340149,\n",
              "  1.1390204429626465,\n",
              "  1.1134768724441528],\n",
              " 'accuracy': [0.3494476079940796,\n",
              "  0.39664047956466675,\n",
              "  0.4409928619861603,\n",
              "  0.46540239453315735,\n",
              "  0.48665714263916016,\n",
              "  0.5034809708595276,\n",
              "  0.5155524015426636],\n",
              " 'val_loss': [1.4223800897598267,\n",
              "  1.3107892274856567,\n",
              "  1.2784305810928345,\n",
              "  1.1956442594528198,\n",
              "  1.1552457809448242,\n",
              "  1.1371887922286987,\n",
              "  1.1319975852966309],\n",
              " 'val_accuracy': [0.35374999046325684,\n",
              "  0.4340857267379761,\n",
              "  0.44154998660087585,\n",
              "  0.47928571701049805,\n",
              "  0.4954499900341034,\n",
              "  0.5003499984741211,\n",
              "  0.5078428387641907]}"
            ]
          },
          "execution_count": 41,
          "metadata": {},
          "output_type": "execute_result"
        }
      ],
      "source": [
        "history1.history"
      ]
    },
    {
      "cell_type": "code",
      "execution_count": 42,
      "metadata": {
        "colab": {
          "base_uri": "https://localhost:8080/",
          "height": 0
        },
        "id": "NkuwOZhWIPzm",
        "outputId": "062e6ae3-701e-4cfa-85ae-922aec6df93d"
      },
      "outputs": [
        {
          "data": {
            "text/plain": [
              "1.4414719343185425"
            ]
          },
          "execution_count": 42,
          "metadata": {},
          "output_type": "execute_result"
        }
      ],
      "source": [
        "history1.history['loss'][0]"
      ]
    },
    {
      "cell_type": "code",
      "execution_count": 58,
      "metadata": {
        "colab": {
          "base_uri": "https://localhost:8080/",
          "height": 0
        },
        "id": "9EVsJE6Jcg7E",
        "outputId": "39427bc5-7562-4d57-cc53-10b791375e45"
      },
      "outputs": [
        {
          "name": "stdout",
          "output_type": "stream",
          "text": [
            "4375/4375 [==============================] - 9s 2ms/step - loss: 1.1308 - accuracy: 0.5100\n"
          ]
        }
      ],
      "source": [
        "#Evaluating our model accuracy on testing data (labelled)\n",
        "results = model1.evaluate(x_test, y_test)"
      ]
    },
    {
      "cell_type": "code",
      "execution_count": 44,
      "metadata": {
        "colab": {
          "base_uri": "https://localhost:8080/",
          "height": 0
        },
        "id": "GXbFDCrsdDrR",
        "outputId": "ee8cd2c4-9866-467b-85d5-1b755faf1185"
      },
      "outputs": [
        {
          "data": {
            "text/plain": [
              "1.1307857036590576"
            ]
          },
          "execution_count": 44,
          "metadata": {},
          "output_type": "execute_result"
        }
      ],
      "source": [
        "results[0]"
      ]
    },
    {
      "cell_type": "code",
      "execution_count": 45,
      "metadata": {
        "colab": {
          "base_uri": "https://localhost:8080/",
          "height": 469
        },
        "id": "PwuT5JP-k7_s",
        "outputId": "a902d4b2-f03d-4bfa-f4b8-477b6e0971ca"
      },
      "outputs": [
        {
          "data": {
            "image/png": "[encoded data removed]",
            "text/plain": [
              "<Figure size 1200x500 with 2 Axes>"
            ]
          },
          "metadata": {},
          "output_type": "display_data"
        }
      ],
      "source": [
        "#Plotting accuracy and loss of the model\n",
        "import matplotlib.pyplot as plt\n",
        "plt.style.use('ggplot')\n",
        "\n",
        "def plot_history(history1):\n",
        "    acc = history1.history['accuracy']\n",
        "    val_acc = history1.history['val_accuracy']\n",
        "    loss = history1.history['loss']\n",
        "    val_loss = history1.history['val_loss']\n",
        "    x = range(1, len(acc) + 1)\n",
        "\n",
        "    plt.figure(figsize=(12, 5))\n",
        "    plt.subplot(1, 2, 1)\n",
        "    plt.plot(x, acc, 'b', label='Training acc')\n",
        "    plt.plot(x, val_acc, 'r', label='Validation acc')\n",
        "    plt.title('Training and validation accuracy')\n",
        "    plt.legend()\n",
        "    plt.subplot(1, 2, 2)\n",
        "    plt.plot(x, loss, 'b', label='Training loss')\n",
        "    plt.plot(x, val_loss, 'r', label='Validation loss')\n",
        "    plt.title('Training and validation loss')\n",
        "    plt.legend()\n",
        "\n",
        "plot_history(history1)"
      ]
    },
    {
      "cell_type": "code",
      "execution_count": 46,
      "metadata": {
        "id": "baibo0RDY63B"
      },
      "outputs": [],
      "source": [
        "embedding_dim = 50\n",
        "nuerons_counts = [8,16,32,64,512]\n",
        "test_outcomes = [] # list of accuracy scores\n",
        "loss_function = [] #list of loss scores"
      ]
    },
    {
      "cell_type": "code",
      "execution_count": 47,
      "metadata": {
        "colab": {
          "base_uri": "https://localhost:8080/",
          "height": 0
        },
        "id": "vco90eHmYZle",
        "outputId": "620a777e-9926-4737-8d99-0c826d5e9952"
      },
      "outputs": [
        {
          "name": "stdout",
          "output_type": "stream",
          "text": [
            "Epoch 1/6\n",
            "8400/8400 [==============================] - 49s 6ms/step - loss: 1.4486 - accuracy: 0.3495 - val_loss: 1.4232 - val_accuracy: 0.3545\n",
            "Epoch 2/6\n",
            "8400/8400 [==============================] - 48s 6ms/step - loss: 1.3735 - accuracy: 0.3984 - val_loss: 1.3184 - val_accuracy: 0.4368\n",
            "Epoch 3/6\n",
            "8400/8400 [==============================] - 48s 6ms/step - loss: 1.2991 - accuracy: 0.4372 - val_loss: 1.2696 - val_accuracy: 0.4487\n",
            "Epoch 4/6\n",
            "8400/8400 [==============================] - 49s 6ms/step - loss: 1.2563 - accuracy: 0.4545 - val_loss: 1.2331 - val_accuracy: 0.4624\n",
            "Epoch 5/6\n",
            "8400/8400 [==============================] - 49s 6ms/step - loss: 1.2110 - accuracy: 0.4715 - val_loss: 1.1953 - val_accuracy: 0.4802\n",
            "Epoch 6/6\n",
            "8400/8400 [==============================] - 48s 6ms/step - loss: 1.1678 - accuracy: 0.4902 - val_loss: 1.1813 - val_accuracy: 0.4819\n",
            "4375/4375 [==============================] - 8s 2ms/step - loss: 1.1783 - accuracy: 0.4845\n",
            "Epoch 1/6\n",
            "8400/8400 [==============================] - 54s 6ms/step - loss: 1.4441 - accuracy: 0.3489 - val_loss: 1.4222 - val_accuracy: 0.3489\n",
            "Epoch 2/6\n",
            "8400/8400 [==============================] - 51s 6ms/step - loss: 1.3694 - accuracy: 0.3904 - val_loss: 1.3324 - val_accuracy: 0.4119\n",
            "Epoch 3/6\n",
            "8400/8400 [==============================] - 52s 6ms/step - loss: 1.2928 - accuracy: 0.4345 - val_loss: 1.2707 - val_accuracy: 0.4418\n",
            "Epoch 4/6\n",
            "8400/8400 [==============================] - 53s 6ms/step - loss: 1.2484 - accuracy: 0.4543 - val_loss: 1.2413 - val_accuracy: 0.4480\n",
            "Epoch 5/6\n",
            "8400/8400 [==============================] - 52s 6ms/step - loss: 1.1955 - accuracy: 0.4771 - val_loss: 1.1786 - val_accuracy: 0.4791\n",
            "Epoch 6/6\n",
            "8400/8400 [==============================] - 52s 6ms/step - loss: 1.1506 - accuracy: 0.4975 - val_loss: 1.1803 - val_accuracy: 0.4846\n",
            "4375/4375 [==============================] - 8s 2ms/step - loss: 1.1797 - accuracy: 0.4834\n",
            "Epoch 1/6\n",
            "8400/8400 [==============================] - 68s 8ms/step - loss: 1.4431 - accuracy: 0.3490 - val_loss: 1.4252 - val_accuracy: 0.3528\n",
            "Epoch 2/6\n",
            "8400/8400 [==============================] - 63s 8ms/step - loss: 1.3728 - accuracy: 0.3933 - val_loss: 1.3150 - val_accuracy: 0.4225\n",
            "Epoch 3/6\n",
            "8400/8400 [==============================] - 62s 7ms/step - loss: 1.2840 - accuracy: 0.4400 - val_loss: 1.2517 - val_accuracy: 0.4472\n",
            "Epoch 4/6\n",
            "8400/8400 [==============================] - 67s 8ms/step - loss: 1.2220 - accuracy: 0.4653 - val_loss: 1.1943 - val_accuracy: 0.4752\n",
            "Epoch 5/6\n",
            "8400/8400 [==============================] - 62s 7ms/step - loss: 1.1718 - accuracy: 0.4878 - val_loss: 1.1574 - val_accuracy: 0.4918\n",
            "Epoch 6/6\n",
            "8400/8400 [==============================] - 62s 7ms/step - loss: 1.1347 - accuracy: 0.5055 - val_loss: 1.1441 - val_accuracy: 0.4973\n",
            "4375/4375 [==============================] - 8s 2ms/step - loss: 1.1420 - accuracy: 0.5009\n",
            "Epoch 1/6\n",
            "8400/8400 [==============================] - 84s 10ms/step - loss: 1.4379 - accuracy: 0.3500 - val_loss: 1.4111 - val_accuracy: 0.3569\n",
            "Epoch 2/6\n",
            "8400/8400 [==============================] - 87s 10ms/step - loss: 1.3534 - accuracy: 0.4057 - val_loss: 1.3100 - val_accuracy: 0.4331\n",
            "Epoch 3/6\n",
            "8400/8400 [==============================] - 87s 10ms/step - loss: 1.2717 - accuracy: 0.4459 - val_loss: 1.2389 - val_accuracy: 0.4562\n",
            "Epoch 4/6\n",
            "8400/8400 [==============================] - 84s 10ms/step - loss: 1.2070 - accuracy: 0.4739 - val_loss: 1.1989 - val_accuracy: 0.4803\n",
            "Epoch 5/6\n",
            "8400/8400 [==============================] - 85s 10ms/step - loss: 1.1608 - accuracy: 0.4947 - val_loss: 1.1585 - val_accuracy: 0.4900\n",
            "Epoch 6/6\n",
            "8400/8400 [==============================] - 87s 10ms/step - loss: 1.1265 - accuracy: 0.5116 - val_loss: 1.1305 - val_accuracy: 0.5051\n",
            "4375/4375 [==============================] - 12s 3ms/step - loss: 1.1285 - accuracy: 0.5072\n",
            "Epoch 1/6\n",
            "8400/8400 [==============================] - 368s 44ms/step - loss: 1.4390 - accuracy: 0.3514 - val_loss: 1.4174 - val_accuracy: 0.3579\n",
            "Epoch 2/6\n",
            "8400/8400 [==============================] - 379s 45ms/step - loss: 1.3586 - accuracy: 0.4052 - val_loss: 1.3363 - val_accuracy: 0.4149\n",
            "Epoch 3/6\n",
            "8400/8400 [==============================] - 379s 45ms/step - loss: 1.2645 - accuracy: 0.4502 - val_loss: 1.3091 - val_accuracy: 0.4372\n",
            "Epoch 4/6\n",
            "8400/8400 [==============================] - 365s 43ms/step - loss: 1.1986 - accuracy: 0.4773 - val_loss: 1.1733 - val_accuracy: 0.4856\n",
            "Epoch 5/6\n",
            "8400/8400 [==============================] - 370s 44ms/step - loss: 1.1512 - accuracy: 0.4995 - val_loss: 1.1414 - val_accuracy: 0.4999\n",
            "Epoch 6/6\n",
            "8400/8400 [==============================] - 367s 44ms/step - loss: 1.1176 - accuracy: 0.5145 - val_loss: 1.1164 - val_accuracy: 0.5122\n",
            "4375/4375 [==============================] - 42s 10ms/step - loss: 1.1152 - accuracy: 0.5130\n"
          ]
        }
      ],
      "source": [
        "for nodes in nuerons_counts:\n",
        "      model_loop = Sequential()\n",
        "      model_loop.add(layers.Embedding(input_dim=vocab_size, output_dim=embedding_dim, input_length=maxlen))\n",
        "      model_loop.add(layers.Flatten())\n",
        "      model_loop.add(layers.Dense(nodes, activation='relu'))\n",
        "      model_loop.add(layers.Dense(6, activation='softmax'))\n",
        "\n",
        "      # Compile model\n",
        "      model_loop.compile(optimizer=optz,\n",
        "              loss=tf.keras.losses.SparseCategoricalCrossentropy(),\n",
        "              metrics=['accuracy']) \n",
        "      model_loop.fit(x_train, y_train, epochs=6, validation_data=(x_val, y_val), batch_size=50, callbacks=[early_stopping])\n",
        "\n",
        "      # Get accuracy from test data\n",
        "      test_accuracy = model_loop.evaluate(x_test, y_test)\n",
        "\n",
        "      # Append accuracy scores to the test outcomes list\n",
        "      test_outcomes.append(test_accuracy[1])\n",
        "      loss_function.append(test_accuracy[0])"
      ]
    },
    {
      "cell_type": "code",
      "execution_count": 48,
      "metadata": {
        "colab": {
          "base_uri": "https://localhost:8080/",
          "height": 0
        },
        "id": "6TY5pz0hH9ax",
        "outputId": "2eee31d1-4ebd-4f2d-bcb6-f6bff40ac489"
      },
      "outputs": [
        {
          "data": {
            "text/plain": [
              "[1.1783277988433838,\n",
              " 1.1796882152557373,\n",
              " 1.1419938802719116,\n",
              " 1.1285154819488525,\n",
              " 1.1151587963104248]"
            ]
          },
          "execution_count": 48,
          "metadata": {},
          "output_type": "execute_result"
        }
      ],
      "source": [
        "loss_function"
      ]
    },
    {
      "cell_type": "code",
      "execution_count": 50,
      "metadata": {
        "colab": {
          "base_uri": "https://localhost:8080/",
          "height": 0
        },
        "id": "1zDdYrknCYBT",
        "outputId": "b86d7e63-ecd5-49e4-ea7a-7756accf1440"
      },
      "outputs": [
        {
          "data": {
            "text/plain": [
              "[0.48453572392463684,\n",
              " 0.4834071397781372,\n",
              " 0.5009499788284302,\n",
              " 0.5072357058525085,\n",
              " 0.5130357146263123]"
            ]
          },
          "execution_count": 50,
          "metadata": {},
          "output_type": "execute_result"
        }
      ],
      "source": [
        "test_outcomes"
      ]
    },
    {
      "cell_type": "code",
      "execution_count": 51,
      "metadata": {
        "colab": {
          "base_uri": "https://localhost:8080/",
          "height": 0
        },
        "id": "5z3KqFkrKgmL",
        "outputId": "61817cd0-3435-4cb2-8e2a-15c10f9c16a8"
      },
      "outputs": [
        {
          "data": {
            "text/plain": [
              "[8, 16, 32, 64, 512]"
            ]
          },
          "execution_count": 51,
          "metadata": {},
          "output_type": "execute_result"
        }
      ],
      "source": [
        "nuerons_counts"
      ]
    },
    {
      "cell_type": "code",
      "execution_count": 52,
      "metadata": {
        "colab": {
          "base_uri": "https://localhost:8080/",
          "height": 510
        },
        "id": "4ZvNyY3iYH29",
        "outputId": "f3830ea6-46d5-4e83-f2d9-0c5e07e521dc"
      },
      "outputs": [
        {
          "data": {
            "text/plain": [
              "<matplotlib.legend.Legend at 0x7fa47a880310>"
            ]
          },
          "execution_count": 52,
          "metadata": {},
          "output_type": "execute_result"
        },
        {
          "data": {
            "image/png": "[encoded data removed]",
            "text/plain": [
              "<Figure size 1200x500 with 2 Axes>"
            ]
          },
          "metadata": {},
          "output_type": "display_data"
        }
      ],
      "source": [
        "plt.figure(figsize=(12, 5))\n",
        "plt.subplot(1, 2, 1)\n",
        "plt.plot(nuerons_counts, test_outcomes, label='Accuracy score', marker='o', color='g')\n",
        "plt.xticks([0,50,100,150,200,250,300,350,400,450,500,550])\n",
        "plt.title('Testing accuracy')\n",
        "plt.legend()\n",
        "plt.xlabel(\"Number of neurons in the hidden layer\")\n",
        "plt.subplot(1, 2, 2)\n",
        "plt.plot(nuerons_counts, loss_function, label='Loss value', marker='o')\n",
        "plt.xticks([0,50,100,150,200,250,300,350,400,450,500,550])\n",
        "plt.xlabel(\"Number of neurons in the hidden layer\")\n",
        "plt.title('Testing loss')\n",
        "plt.legend()"
      ]
    },
    {
      "cell_type": "markdown",
      "metadata": {
        "id": "vjtVfDMUV3Pe"
      },
      "source": [
        "**Ideal number of neurons**\n",
        "\n",
        "We can see that as we increased the number of neurons in our hidden layer, loss reduced and accuracy increased in both validation and training sets increased. Although it makes sense sense to go with the number of neurons that gives the best accuracy and lowest loss value, which in this case is 512 neurons, we believe this is not entirely ideal. To begin with, we could possibly have more accuracy with even more neurons (greater than 512), and thus this number seems a bit arbitrarily picked. Also, if we activate these many neurons after our embedding layer, without a dropout layer, it may lead to some overfitting. This is a bit evident from the above graph, where increasing the neurons from 64 to 512 (which is a massive leap) is increasing the accuracy only by about 1% approx. This marginal increase, added with the additional computational time that will be taken for computing 448 more neurons makes it a less than ideal option. Hence, for our final model, we have decided to go with 64 neurons. \n",
        "\n"
      ]
    },
    {
      "cell_type": "code",
      "execution_count": 68,
      "metadata": {
        "colab": {
          "base_uri": "https://localhost:8080/",
          "height": 0
        },
        "id": "ubl2dMGCV2Kd",
        "outputId": "a9856215-02f2-4a23-9310-598bd0887e9f"
      },
      "outputs": [
        {
          "name": "stderr",
          "output_type": "stream",
          "text": [
            "Exception ignored in: <function _xla_gc_callback at 0x7fa4ae1a6ee0>\n",
            "Traceback (most recent call last):\n",
            "  File \"/usr/local/lib/python3.9/dist-packages/jax/_src/lib/__init__.py\", line 97, in _xla_gc_callback\n",
            "    def _xla_gc_callback(*args):\n",
            "KeyboardInterrupt: \n"
          ]
        },
        {
          "name": "stdout",
          "output_type": "stream",
          "text": [
            "Model: \"sequential_10\"\n",
            "_________________________________________________________________\n",
            " Layer (type)                Output Shape              Param #   \n",
            "=================================================================\n",
            " embedding_10 (Embedding)    (None, 200, 50)           15714600  \n",
            "                                                                 \n",
            " flatten_10 (Flatten)        (None, 10000)             0         \n",
            "                                                                 \n",
            " dense_20 (Dense)            (None, 64)                640064    \n",
            "                                                                 \n",
            " dense_21 (Dense)            (None, 6)                 390       \n",
            "                                                                 \n",
            "=================================================================\n",
            "Total params: 16,355,054\n",
            "Trainable params: 16,355,054\n",
            "Non-trainable params: 0\n",
            "_________________________________________________________________\n",
            "Epoch 1/8\n",
            "8400/8400 [==============================] - 89s 11ms/step - loss: 1.4384 - accuracy: 0.3534 - val_loss: 1.4119 - val_accuracy: 0.3675\n",
            "Epoch 2/8\n",
            "8400/8400 [==============================] - 88s 11ms/step - loss: 1.3504 - accuracy: 0.4100 - val_loss: 1.3086 - val_accuracy: 0.4275\n",
            "Epoch 3/8\n",
            "8400/8400 [==============================] - 92s 11ms/step - loss: 1.2656 - accuracy: 0.4479 - val_loss: 1.2618 - val_accuracy: 0.4450\n",
            "Epoch 4/8\n",
            "8400/8400 [==============================] - 102s 12ms/step - loss: 1.2078 - accuracy: 0.4727 - val_loss: 1.1811 - val_accuracy: 0.4798\n",
            "Epoch 5/8\n",
            "8400/8400 [==============================] - 108s 13ms/step - loss: 1.1631 - accuracy: 0.4919 - val_loss: 1.1508 - val_accuracy: 0.4947\n",
            "Epoch 6/8\n",
            "8400/8400 [==============================] - 97s 12ms/step - loss: 1.1296 - accuracy: 0.5087 - val_loss: 1.1589 - val_accuracy: 0.4882\n"
          ]
        }
      ],
      "source": [
        "#Final 3-NN model \n",
        "modelfinal = Sequential()\n",
        "modelfinal.add(layers.Embedding(input_dim=vocab_size, \n",
        "                           output_dim=embedding_dim, \n",
        "                           input_length=maxlen))\n",
        "modelfinal.add(layers.Flatten())\n",
        "modelfinal.add(layers.Dense(64, activation='relu'))\n",
        "modelfinal.add(layers.Dense(6, activation='softmax'))\n",
        "\n",
        "optz= SGD(learning_rate=0.01)\n",
        "modelfinal.compile(optimizer=optz,\n",
        "              loss=tf.keras.losses.SparseCategoricalCrossentropy(),\n",
        "              metrics=['accuracy'])\n",
        "modelfinal.summary()\n",
        "history_final = modelfinal.fit(x_train, y_train, epochs=8, validation_data=(x_val, y_val), batch_size=50, callbacks=[early_stopping])"
      ]
    },
    {
      "cell_type": "markdown",
      "metadata": {
        "id": "SubIw5hvYhfy"
      },
      "source": [
        "## Predicting our basic 3-NN on real testing data"
      ]
    },
    {
      "cell_type": "code",
      "execution_count": 13,
      "metadata": {
        "id": "GjR6nVlYYZFg"
      },
      "outputs": [],
      "source": [
        "reads_test = pd.read_csv(\"drive/My Drive/Colab Notebooks/my_goodreads_test.csv\")"
      ]
    },
    {
      "cell_type": "code",
      "execution_count": 70,
      "metadata": {
        "colab": {
          "base_uri": "https://localhost:8080/",
          "height": 332
        },
        "id": "avSR5WGoYnqC",
        "outputId": "4c82db11-e7d5-419a-8271-f134c4be8b7c"
      },
      "outputs": [
        {
          "data": {
            "text/html": [
              "\n",
              "  <div id=\"df-85b72b96-33c2-47c8-b245-875f2ef2bae2\">\n",
              "    <div class=\"colab-df-container\">\n",
              "      <div>\n",
              "<style scoped>\n",
              "    .dataframe tbody tr th:only-of-type {\n",
              "        vertical-align: middle;\n",
              "    }\n",
              "\n",
              "    .dataframe tbody tr th {\n",
              "        vertical-align: top;\n",
              "    }\n",
              "\n",
              "    .dataframe thead th {\n",
              "        text-align: right;\n",
              "    }\n",
              "</style>\n",
              "<table border=\"1\" class=\"dataframe\">\n",
              "  <thead>\n",
              "    <tr style=\"text-align: right;\">\n",
              "      <th></th>\n",
              "      <th>Unnamed: 0</th>\n",
              "      <th>user_id</th>\n",
              "      <th>book_id</th>\n",
              "      <th>review_id</th>\n",
              "      <th>review_text</th>\n",
              "      <th>date_added</th>\n",
              "      <th>date_updated</th>\n",
              "      <th>read_at</th>\n",
              "      <th>started_at</th>\n",
              "      <th>n_votes</th>\n",
              "      <th>n_comments</th>\n",
              "    </tr>\n",
              "  </thead>\n",
              "  <tbody>\n",
              "    <tr>\n",
              "      <th>0</th>\n",
              "      <td>2212</td>\n",
              "      <td>11f7623a30dd3f47258dd9a4c806f6850</td>\n",
              "      <td>10439467</td>\n",
              "      <td>16c32b9bb0142734c60f8b028f281c5dd</td>\n",
              "      <td>3-3.5 stars \\n While I liked it, I didn't love...</td>\n",
              "      <td>Wed Oct 17 11:33:43 -0700 2012</td>\n",
              "      <td>Fri Feb 24 20:18:32 -0800 2017</td>\n",
              "      <td>Fri Feb 12 06:19:31 -0800 2016</td>\n",
              "      <td>Sat Feb 06 00:00:00 -0800 2016</td>\n",
              "      <td>1</td>\n",
              "      <td>0</td>\n",
              "    </tr>\n",
              "    <tr>\n",
              "      <th>1</th>\n",
              "      <td>655187</td>\n",
              "      <td>1b700c4dfcecf272a3d18fea04d1a7f3a</td>\n",
              "      <td>129377</td>\n",
              "      <td>1f86ec340856f1097c922d33aed48d4ea</td>\n",
              "      <td>First, I must fangirl over the ending. *OMG FA...</td>\n",
              "      <td>Mon Mar 02 14:15:20 -0800 2015</td>\n",
              "      <td>Thu Jul 21 11:27:01 -0700 2016</td>\n",
              "      <td>Wed Apr 29 00:00:00 -0700 2015</td>\n",
              "      <td>Mon Apr 27 00:00:00 -0700 2015</td>\n",
              "      <td>0</td>\n",
              "      <td>0</td>\n",
              "    </tr>\n",
              "  </tbody>\n",
              "</table>\n",
              "</div>\n",
              "      <button class=\"colab-df-convert\" onclick=\"convertToInteractive('df-85b72b96-33c2-47c8-b245-875f2ef2bae2')\"\n",
              "              title=\"Convert this dataframe to an interactive table.\"\n",
              "              style=\"display:none;\">\n",
              "        \n",
              "  <svg xmlns=\"http://www.w3.org/2000/svg\" height=\"24px\"viewBox=\"0 0 24 24\"\n",
              "       width=\"24px\">\n",
              "    <path d=\"M0 0h24v24H0V0z\" fill=\"none\"/>\n",
              "    <path d=\"M18.56 5.44l.94 2.06.94-2.06 2.06-.94-2.06-.94-.94-2.06-.94 2.06-2.06.94zm-11 1L8.5 8.5l.94-2.06 2.06-.94-2.06-.94L8.5 2.5l-.94 2.06-2.06.94zm10 10l.94 2.06.94-2.06 2.06-.94-2.06-.94-.94-2.06-.94 2.06-2.06.94z\"/><path d=\"M17.41 7.96l-1.37-1.37c-.4-.4-.92-.59-1.43-.59-.52 0-1.04.2-1.43.59L10.3 9.45l-7.72 7.72c-.78.78-.78 2.05 0 2.83L4 21.41c.39.39.9.59 1.41.59.51 0 1.02-.2 1.41-.59l7.78-7.78 2.81-2.81c.8-.78.8-2.07 0-2.86zM5.41 20L4 18.59l7.72-7.72 1.47 1.35L5.41 20z\"/>\n",
              "  </svg>\n",
              "      </button>\n",
              "      \n",
              "  <style>\n",
              "    .colab-df-container {\n",
              "      display:flex;\n",
              "      flex-wrap:wrap;\n",
              "      gap: 12px;\n",
              "    }\n",
              "\n",
              "    .colab-df-convert {\n",
              "      background-color: #E8F0FE;\n",
              "      border: none;\n",
              "      border-radius: 50%;\n",
              "      cursor: pointer;\n",
              "      display: none;\n",
              "      fill: #1967D2;\n",
              "      height: 32px;\n",
              "      padding: 0 0 0 0;\n",
              "      width: 32px;\n",
              "    }\n",
              "\n",
              "    .colab-df-convert:hover {\n",
              "      background-color: #E2EBFA;\n",
              "      box-shadow: 0px 1px 2px rgba(60, 64, 67, 0.3), 0px 1px 3px 1px rgba(60, 64, 67, 0.15);\n",
              "      fill: #174EA6;\n",
              "    }\n",
              "\n",
              "    [theme=dark] .colab-df-convert {\n",
              "      background-color: #3B4455;\n",
              "      fill: #D2E3FC;\n",
              "    }\n",
              "\n",
              "    [theme=dark] .colab-df-convert:hover {\n",
              "      background-color: #434B5C;\n",
              "      box-shadow: 0px 1px 3px 1px rgba(0, 0, 0, 0.15);\n",
              "      filter: drop-shadow(0px 1px 2px rgba(0, 0, 0, 0.3));\n",
              "      fill: #FFFFFF;\n",
              "    }\n",
              "  </style>\n",
              "\n",
              "      <script>\n",
              "        const buttonEl =\n",
              "          document.querySelector('#df-85b72b96-33c2-47c8-b245-875f2ef2bae2 button.colab-df-convert');\n",
              "        buttonEl.style.display =\n",
              "          google.colab.kernel.accessAllowed ? 'block' : 'none';\n",
              "\n",
              "        async function convertToInteractive(key) {\n",
              "          const element = document.querySelector('#df-85b72b96-33c2-47c8-b245-875f2ef2bae2');\n",
              "          const dataTable =\n",
              "            await google.colab.kernel.invokeFunction('convertToInteractive',\n",
              "                                                     [key], {});\n",
              "          if (!dataTable) return;\n",
              "\n",
              "          const docLinkHtml = 'Like what you see? Visit the ' +\n",
              "            '<a target=\"_blank\" href=https://colab.research.google.com/notebooks/data_table.ipynb>data table notebook</a>'\n",
              "            + ' to learn more about interactive tables.';\n",
              "          element.innerHTML = '';\n",
              "          dataTable['output_type'] = 'display_data';\n",
              "          await google.colab.output.renderOutput(dataTable, element);\n",
              "          const docLink = document.createElement('div');\n",
              "          docLink.innerHTML = docLinkHtml;\n",
              "          element.appendChild(docLink);\n",
              "        }\n",
              "      </script>\n",
              "    </div>\n",
              "  </div>\n",
              "  "
            ],
            "text/plain": [
              "   Unnamed: 0                            user_id   book_id  \\\n",
              "0        2212  11f7623a30dd3f47258dd9a4c806f6850  10439467   \n",
              "1      655187  1b700c4dfcecf272a3d18fea04d1a7f3a    129377   \n",
              "\n",
              "                           review_id  \\\n",
              "0  16c32b9bb0142734c60f8b028f281c5dd   \n",
              "1  1f86ec340856f1097c922d33aed48d4ea   \n",
              "\n",
              "                                         review_text  \\\n",
              "0  3-3.5 stars \\n While I liked it, I didn't love...   \n",
              "1  First, I must fangirl over the ending. *OMG FA...   \n",
              "\n",
              "                       date_added                    date_updated  \\\n",
              "0  Wed Oct 17 11:33:43 -0700 2012  Fri Feb 24 20:18:32 -0800 2017   \n",
              "1  Mon Mar 02 14:15:20 -0800 2015  Thu Jul 21 11:27:01 -0700 2016   \n",
              "\n",
              "                          read_at                      started_at  n_votes  \\\n",
              "0  Fri Feb 12 06:19:31 -0800 2016  Sat Feb 06 00:00:00 -0800 2016        1   \n",
              "1  Wed Apr 29 00:00:00 -0700 2015  Mon Apr 27 00:00:00 -0700 2015        0   \n",
              "\n",
              "   n_comments  \n",
              "0           0  \n",
              "1           0  "
            ]
          },
          "execution_count": 70,
          "metadata": {},
          "output_type": "execute_result"
        }
      ],
      "source": [
        "reads_test.head(2)"
      ]
    },
    {
      "cell_type": "code",
      "execution_count": 71,
      "metadata": {
        "id": "prSnoExYiSzJ"
      },
      "outputs": [],
      "source": [
        "reads_test1 = reads_test"
      ]
    },
    {
      "cell_type": "code",
      "execution_count": 72,
      "metadata": {
        "id": "kG1j1HmSYpwQ"
      },
      "outputs": [],
      "source": [
        "x_test=reads_test1['review_text']"
      ]
    },
    {
      "cell_type": "code",
      "execution_count": 73,
      "metadata": {
        "id": "oQ9nxQVpYpyO"
      },
      "outputs": [],
      "source": [
        "# Tokenization of the real testing data\n",
        "x_test = tokenizer.texts_to_sequences(x_test)\n",
        "x_test = pad_sequences(x_test, padding='post', maxlen=maxlen)"
      ]
    },
    {
      "cell_type": "code",
      "execution_count": 74,
      "metadata": {
        "colab": {
          "base_uri": "https://localhost:8080/",
          "height": 0
        },
        "id": "4PRnmJmqZLHe",
        "outputId": "3c2f7b86-f1a8-46af-8f65-dc40d1bf17d6"
      },
      "outputs": [
        {
          "name": "stdout",
          "output_type": "stream",
          "text": [
            "6250/6250 [==============================] - 15s 2ms/step\n"
          ]
        }
      ],
      "source": [
        "#Fitting our testing inputs into our model\n",
        "nn1_predictions = modelfinal.predict(x_test)\n",
        "nn1_predictions= np.argmax(nn1_predictions, axis=1)"
      ]
    },
    {
      "cell_type": "code",
      "execution_count": 75,
      "metadata": {
        "colab": {
          "base_uri": "https://localhost:8080/",
          "height": 0
        },
        "id": "wzmT8ryIZNuj",
        "outputId": "86c4c764-296b-4b67-a636-441781fa06c3"
      },
      "outputs": [
        {
          "data": {
            "text/plain": [
              "(200000,)"
            ]
          },
          "execution_count": 75,
          "metadata": {},
          "output_type": "execute_result"
        }
      ],
      "source": [
        "#Size of the predictions array\n",
        "nn1_predictions.shape"
      ]
    },
    {
      "cell_type": "code",
      "execution_count": 76,
      "metadata": {
        "id": "o0brHuacZNwp"
      },
      "outputs": [],
      "source": [
        "#Converting predictions array to a list\n",
        "reads_test1['rating']=nn1_predictions.tolist()"
      ]
    },
    {
      "cell_type": "code",
      "execution_count": 77,
      "metadata": {
        "id": "YnoCKpC_ZLJ3"
      },
      "outputs": [],
      "source": [
        "#Reducing the testing dataframe into two columns\n",
        "reads_test1 = reads_test1[['review_id', 'rating']]"
      ]
    },
    {
      "cell_type": "code",
      "execution_count": 78,
      "metadata": {
        "colab": {
          "base_uri": "https://localhost:8080/",
          "height": 112
        },
        "id": "3WzLN6IhZXcb",
        "outputId": "dd3f0482-1e8e-4e07-ebf1-a18b2b4e7cac"
      },
      "outputs": [
        {
          "data": {
            "text/html": [
              "\n",
              "  <div id=\"df-4076f345-fa46-43e1-a18f-43fc635b454f\">\n",
              "    <div class=\"colab-df-container\">\n",
              "      <div>\n",
              "<style scoped>\n",
              "    .dataframe tbody tr th:only-of-type {\n",
              "        vertical-align: middle;\n",
              "    }\n",
              "\n",
              "    .dataframe tbody tr th {\n",
              "        vertical-align: top;\n",
              "    }\n",
              "\n",
              "    .dataframe thead th {\n",
              "        text-align: right;\n",
              "    }\n",
              "</style>\n",
              "<table border=\"1\" class=\"dataframe\">\n",
              "  <thead>\n",
              "    <tr style=\"text-align: right;\">\n",
              "      <th></th>\n",
              "      <th>review_id</th>\n",
              "      <th>rating</th>\n",
              "    </tr>\n",
              "  </thead>\n",
              "  <tbody>\n",
              "    <tr>\n",
              "      <th>0</th>\n",
              "      <td>16c32b9bb0142734c60f8b028f281c5dd</td>\n",
              "      <td>3</td>\n",
              "    </tr>\n",
              "    <tr>\n",
              "      <th>1</th>\n",
              "      <td>1f86ec340856f1097c922d33aed48d4ea</td>\n",
              "      <td>4</td>\n",
              "    </tr>\n",
              "  </tbody>\n",
              "</table>\n",
              "</div>\n",
              "      <button class=\"colab-df-convert\" onclick=\"convertToInteractive('df-4076f345-fa46-43e1-a18f-43fc635b454f')\"\n",
              "              title=\"Convert this dataframe to an interactive table.\"\n",
              "              style=\"display:none;\">\n",
              "        \n",
              "  <svg xmlns=\"http://www.w3.org/2000/svg\" height=\"24px\"viewBox=\"0 0 24 24\"\n",
              "       width=\"24px\">\n",
              "    <path d=\"M0 0h24v24H0V0z\" fill=\"none\"/>\n",
              "    <path d=\"M18.56 5.44l.94 2.06.94-2.06 2.06-.94-2.06-.94-.94-2.06-.94 2.06-2.06.94zm-11 1L8.5 8.5l.94-2.06 2.06-.94-2.06-.94L8.5 2.5l-.94 2.06-2.06.94zm10 10l.94 2.06.94-2.06 2.06-.94-2.06-.94-.94-2.06-.94 2.06-2.06.94z\"/><path d=\"M17.41 7.96l-1.37-1.37c-.4-.4-.92-.59-1.43-.59-.52 0-1.04.2-1.43.59L10.3 9.45l-7.72 7.72c-.78.78-.78 2.05 0 2.83L4 21.41c.39.39.9.59 1.41.59.51 0 1.02-.2 1.41-.59l7.78-7.78 2.81-2.81c.8-.78.8-2.07 0-2.86zM5.41 20L4 18.59l7.72-7.72 1.47 1.35L5.41 20z\"/>\n",
              "  </svg>\n",
              "      </button>\n",
              "      \n",
              "  <style>\n",
              "    .colab-df-container {\n",
              "      display:flex;\n",
              "      flex-wrap:wrap;\n",
              "      gap: 12px;\n",
              "    }\n",
              "\n",
              "    .colab-df-convert {\n",
              "      background-color: #E8F0FE;\n",
              "      border: none;\n",
              "      border-radius: 50%;\n",
              "      cursor: pointer;\n",
              "      display: none;\n",
              "      fill: #1967D2;\n",
              "      height: 32px;\n",
              "      padding: 0 0 0 0;\n",
              "      width: 32px;\n",
              "    }\n",
              "\n",
              "    .colab-df-convert:hover {\n",
              "      background-color: #E2EBFA;\n",
              "      box-shadow: 0px 1px 2px rgba(60, 64, 67, 0.3), 0px 1px 3px 1px rgba(60, 64, 67, 0.15);\n",
              "      fill: #174EA6;\n",
              "    }\n",
              "\n",
              "    [theme=dark] .colab-df-convert {\n",
              "      background-color: #3B4455;\n",
              "      fill: #D2E3FC;\n",
              "    }\n",
              "\n",
              "    [theme=dark] .colab-df-convert:hover {\n",
              "      background-color: #434B5C;\n",
              "      box-shadow: 0px 1px 3px 1px rgba(0, 0, 0, 0.15);\n",
              "      filter: drop-shadow(0px 1px 2px rgba(0, 0, 0, 0.3));\n",
              "      fill: #FFFFFF;\n",
              "    }\n",
              "  </style>\n",
              "\n",
              "      <script>\n",
              "        const buttonEl =\n",
              "          document.querySelector('#df-4076f345-fa46-43e1-a18f-43fc635b454f button.colab-df-convert');\n",
              "        buttonEl.style.display =\n",
              "          google.colab.kernel.accessAllowed ? 'block' : 'none';\n",
              "\n",
              "        async function convertToInteractive(key) {\n",
              "          const element = document.querySelector('#df-4076f345-fa46-43e1-a18f-43fc635b454f');\n",
              "          const dataTable =\n",
              "            await google.colab.kernel.invokeFunction('convertToInteractive',\n",
              "                                                     [key], {});\n",
              "          if (!dataTable) return;\n",
              "\n",
              "          const docLinkHtml = 'Like what you see? Visit the ' +\n",
              "            '<a target=\"_blank\" href=https://colab.research.google.com/notebooks/data_table.ipynb>data table notebook</a>'\n",
              "            + ' to learn more about interactive tables.';\n",
              "          element.innerHTML = '';\n",
              "          dataTable['output_type'] = 'display_data';\n",
              "          await google.colab.output.renderOutput(dataTable, element);\n",
              "          const docLink = document.createElement('div');\n",
              "          docLink.innerHTML = docLinkHtml;\n",
              "          element.appendChild(docLink);\n",
              "        }\n",
              "      </script>\n",
              "    </div>\n",
              "  </div>\n",
              "  "
            ],
            "text/plain": [
              "                           review_id  rating\n",
              "0  16c32b9bb0142734c60f8b028f281c5dd       3\n",
              "1  1f86ec340856f1097c922d33aed48d4ea       4"
            ]
          },
          "execution_count": 78,
          "metadata": {},
          "output_type": "execute_result"
        }
      ],
      "source": [
        "reads_test1.head(2)"
      ]
    },
    {
      "cell_type": "code",
      "execution_count": 79,
      "metadata": {
        "id": "1Z94Kn8SZXeg"
      },
      "outputs": [],
      "source": [
        "#Saving the predicted values as a dataframe in csv format\n",
        "reads_test1.to_csv('drive/My Drive/Colab Notebooks/results_nn1.csv', index=False)"
      ]
    },
    {
      "cell_type": "markdown",
      "metadata": {
        "id": "t2NuNJ2FMNei"
      },
      "source": [
        "# Deep Neural Networks \n",
        "\n",
        "# CNN models\n",
        "\n",
        "Now, we used deeper models. This is by introducong convolutional neural networks, and introducing more layers, such as dropout layers into our model. \n",
        "CNNs work by taking inputs as \"filter kernels\". We have considered a Conv1D layer here. Another layer for embedding we have used is the GlobalMaxPooling1D, to reduce the size of the incoming layer of inputs into our hidden layers. \n",
        "\n",
        "Dropout layers are also introduced, which essentially choose a proportion of random neurons that it stops from being activated in each epoch of running the model. This helps in the network learning multiple independant internal representations of data, rather than relying on set, predetermined inputs. "
      ]
    },
    {
      "cell_type": "markdown",
      "metadata": {
        "id": "b8X5C-BKtukb"
      },
      "source": [
        "**#Basic CNN model**\n"
      ]
    },
    {
      "cell_type": "code",
      "execution_count": 104,
      "metadata": {
        "colab": {
          "base_uri": "https://localhost:8080/",
          "height": 0
        },
        "id": "t0Qjs4AzfGyq",
        "outputId": "55d782ff-d315-4842-ba19-81021ec95253"
      },
      "outputs": [
        {
          "name": "stdout",
          "output_type": "stream",
          "text": [
            "Model: \"sequential_16\"\n",
            "_________________________________________________________________\n",
            " Layer (type)                Output Shape              Param #   \n",
            "=================================================================\n",
            " embedding_16 (Embedding)    (None, 200, 50)           15714600  \n",
            "                                                                 \n",
            " conv1d_5 (Conv1D)           (None, 196, 128)          32128     \n",
            "                                                                 \n",
            " global_max_pooling1d_5 (Glo  (None, 128)              0         \n",
            " balMaxPooling1D)                                                \n",
            "                                                                 \n",
            " dense_32 (Dense)            (None, 64)                8256      \n",
            "                                                                 \n",
            " dense_33 (Dense)            (None, 6)                 390       \n",
            "                                                                 \n",
            "=================================================================\n",
            "Total params: 15,755,374\n",
            "Trainable params: 15,755,374\n",
            "Non-trainable params: 0\n",
            "_________________________________________________________________\n",
            "Epoch 1/10\n",
            "8400/8400 [==============================] - 367s 44ms/step - loss: 1.4422 - accuracy: 0.3511 - val_loss: 1.4285 - val_accuracy: 0.3733\n",
            "Epoch 2/10\n",
            "8400/8400 [==============================] - 364s 43ms/step - loss: 1.3803 - accuracy: 0.3913 - val_loss: 1.3326 - val_accuracy: 0.4164\n",
            "Epoch 3/10\n",
            "8400/8400 [==============================] - 375s 45ms/step - loss: 1.2803 - accuracy: 0.4434 - val_loss: 1.2246 - val_accuracy: 0.4671\n",
            "Epoch 4/10\n",
            "8400/8400 [==============================] - 364s 43ms/step - loss: 1.1794 - accuracy: 0.4884 - val_loss: 1.1504 - val_accuracy: 0.4992\n",
            "Epoch 5/10\n",
            "8400/8400 [==============================] - 376s 45ms/step - loss: 1.1249 - accuracy: 0.5111 - val_loss: 1.1184 - val_accuracy: 0.5163\n",
            "Epoch 6/10\n",
            "8400/8400 [==============================] - 375s 45ms/step - loss: 1.0899 - accuracy: 0.5272 - val_loss: 1.0994 - val_accuracy: 0.5221\n",
            "Epoch 7/10\n",
            "8400/8400 [==============================] - 364s 43ms/step - loss: 1.0639 - accuracy: 0.5384 - val_loss: 1.0677 - val_accuracy: 0.5352\n",
            "Epoch 8/10\n",
            "8400/8400 [==============================] - 359s 43ms/step - loss: 1.0443 - accuracy: 0.5473 - val_loss: 1.0570 - val_accuracy: 0.5394\n",
            "Epoch 9/10\n",
            "8400/8400 [==============================] - 358s 43ms/step - loss: 1.0290 - accuracy: 0.5550 - val_loss: 1.0441 - val_accuracy: 0.5452\n",
            "Epoch 10/10\n",
            "8400/8400 [==============================] - 378s 45ms/step - loss: 1.0162 - accuracy: 0.5601 - val_loss: 1.0373 - val_accuracy: 0.5500\n"
          ]
        }
      ],
      "source": [
        "embedding_dim = 50\n",
        "\n",
        "modelcnn = Sequential()\n",
        "modelcnn.add(layers.Embedding(input_dim=vocab_size, \n",
        "                           output_dim=embedding_dim, \n",
        "                           input_length=maxlen))\n",
        "modelcnn.add(layers.Conv1D(128, 5, activation='relu'))\n",
        "modelcnn.add(layers.GlobalMaxPooling1D())\n",
        "modelcnn.add(layers.Dense(64, activation='relu'))\n",
        "modelcnn.add(layers.Dense(6, activation='softmax'))\n",
        "\n",
        "optz= SGD(learning_rate=0.01)\n",
        "modelcnn.compile(optimizer=optz,\n",
        "              loss=tf.keras.losses.SparseCategoricalCrossentropy(),\n",
        "              metrics=['accuracy'])\n",
        "modelcnn.summary()\n",
        "history_cnn = modelcnn.fit(x_train, y_train, epochs=10, validation_data=(x_val, y_val), batch_size=50, callbacks=[early_stopping])\n"
      ]
    },
    {
      "cell_type": "code",
      "execution_count": null,
      "metadata": {
        "id": "P5GTlUtzctrn"
      },
      "outputs": [],
      "source": [
        "y_pred = modelcnn.predict(x_test)"
      ]
    },
    {
      "cell_type": "markdown",
      "metadata": {
        "id": "QS4CmwfJjKYL"
      },
      "source": [
        "**Making predictions on our actual testing data**\n"
      ]
    },
    {
      "cell_type": "code",
      "execution_count": 105,
      "metadata": {
        "id": "9IPUX7ntiCWP"
      },
      "outputs": [],
      "source": [
        "reads_test2 = reads_test\n",
        "x_test=reads_test2['review_text']"
      ]
    },
    {
      "cell_type": "code",
      "execution_count": 106,
      "metadata": {
        "id": "cS-PG56h6lsN"
      },
      "outputs": [],
      "source": [
        "# Tokenization of the real testing data\n",
        "x_test = tokenizer.texts_to_sequences(x_test)\n",
        "x_test = pad_sequences(x_test, padding='post', maxlen=maxlen)"
      ]
    },
    {
      "cell_type": "code",
      "execution_count": 112,
      "metadata": {
        "colab": {
          "base_uri": "https://localhost:8080/",
          "height": 0
        },
        "id": "y_OpLtglKVgl",
        "outputId": "b751fd2e-a733-4f7e-fc34-f9aa4e34f506"
      },
      "outputs": [
        {
          "name": "stdout",
          "output_type": "stream",
          "text": [
            "6250/6250 [==============================] - 52s 8ms/step\n"
          ]
        }
      ],
      "source": [
        "#Making predictions on our actual testing data\n",
        "cnn_predictions = modelcnn.predict(x_test)\n",
        "cnn_predictions= np.argmax(cnn_predictions, axis=1)"
      ]
    },
    {
      "cell_type": "code",
      "execution_count": 113,
      "metadata": {
        "colab": {
          "base_uri": "https://localhost:8080/",
          "height": 0
        },
        "id": "4z40dimEKpRq",
        "outputId": "f5fbac94-303c-422e-c471-30f8ecd164b2"
      },
      "outputs": [
        {
          "data": {
            "text/plain": [
              "(200000,)"
            ]
          },
          "execution_count": 113,
          "metadata": {},
          "output_type": "execute_result"
        }
      ],
      "source": [
        "cnn_predictions.shape"
      ]
    },
    {
      "cell_type": "code",
      "execution_count": 114,
      "metadata": {
        "colab": {
          "base_uri": "https://localhost:8080/",
          "height": 0
        },
        "id": "UWg7kkH1i0vh",
        "outputId": "8f55c879-a85a-407a-c3a7-d2c301ad0c12"
      },
      "outputs": [
        {
          "name": "stderr",
          "output_type": "stream",
          "text": [
            "<ipython-input-114-f6b3f6d923aa>:1: SettingWithCopyWarning: \n",
            "A value is trying to be set on a copy of a slice from a DataFrame.\n",
            "Try using .loc[row_indexer,col_indexer] = value instead\n",
            "\n",
            "See the caveats in the documentation: https://pandas.pydata.org/pandas-docs/stable/user_guide/indexing.html#returning-a-view-versus-a-copy\n",
            "  reads_test2['rating']=cnn_predictions.tolist()\n"
          ]
        }
      ],
      "source": [
        "reads_test2['rating']=cnn_predictions.tolist()"
      ]
    },
    {
      "cell_type": "code",
      "execution_count": 115,
      "metadata": {
        "colab": {
          "base_uri": "https://localhost:8080/",
          "height": 112
        },
        "id": "98jm2RVXKsJT",
        "outputId": "9b0d6da0-058c-4fe7-bc67-6710b066a76a"
      },
      "outputs": [
        {
          "data": {
            "text/html": [
              "\n",
              "  <div id=\"df-dae38ec0-2754-489a-a305-2b11c7ff3fb4\">\n",
              "    <div class=\"colab-df-container\">\n",
              "      <div>\n",
              "<style scoped>\n",
              "    .dataframe tbody tr th:only-of-type {\n",
              "        vertical-align: middle;\n",
              "    }\n",
              "\n",
              "    .dataframe tbody tr th {\n",
              "        vertical-align: top;\n",
              "    }\n",
              "\n",
              "    .dataframe thead th {\n",
              "        text-align: right;\n",
              "    }\n",
              "</style>\n",
              "<table border=\"1\" class=\"dataframe\">\n",
              "  <thead>\n",
              "    <tr style=\"text-align: right;\">\n",
              "      <th></th>\n",
              "      <th>review_id</th>\n",
              "      <th>rating</th>\n",
              "    </tr>\n",
              "  </thead>\n",
              "  <tbody>\n",
              "    <tr>\n",
              "      <th>0</th>\n",
              "      <td>16c32b9bb0142734c60f8b028f281c5dd</td>\n",
              "      <td>3</td>\n",
              "    </tr>\n",
              "    <tr>\n",
              "      <th>1</th>\n",
              "      <td>1f86ec340856f1097c922d33aed48d4ea</td>\n",
              "      <td>5</td>\n",
              "    </tr>\n",
              "  </tbody>\n",
              "</table>\n",
              "</div>\n",
              "      <button class=\"colab-df-convert\" onclick=\"convertToInteractive('df-dae38ec0-2754-489a-a305-2b11c7ff3fb4')\"\n",
              "              title=\"Convert this dataframe to an interactive table.\"\n",
              "              style=\"display:none;\">\n",
              "        \n",
              "  <svg xmlns=\"http://www.w3.org/2000/svg\" height=\"24px\"viewBox=\"0 0 24 24\"\n",
              "       width=\"24px\">\n",
              "    <path d=\"M0 0h24v24H0V0z\" fill=\"none\"/>\n",
              "    <path d=\"M18.56 5.44l.94 2.06.94-2.06 2.06-.94-2.06-.94-.94-2.06-.94 2.06-2.06.94zm-11 1L8.5 8.5l.94-2.06 2.06-.94-2.06-.94L8.5 2.5l-.94 2.06-2.06.94zm10 10l.94 2.06.94-2.06 2.06-.94-2.06-.94-.94-2.06-.94 2.06-2.06.94z\"/><path d=\"M17.41 7.96l-1.37-1.37c-.4-.4-.92-.59-1.43-.59-.52 0-1.04.2-1.43.59L10.3 9.45l-7.72 7.72c-.78.78-.78 2.05 0 2.83L4 21.41c.39.39.9.59 1.41.59.51 0 1.02-.2 1.41-.59l7.78-7.78 2.81-2.81c.8-.78.8-2.07 0-2.86zM5.41 20L4 18.59l7.72-7.72 1.47 1.35L5.41 20z\"/>\n",
              "  </svg>\n",
              "      </button>\n",
              "      \n",
              "  <style>\n",
              "    .colab-df-container {\n",
              "      display:flex;\n",
              "      flex-wrap:wrap;\n",
              "      gap: 12px;\n",
              "    }\n",
              "\n",
              "    .colab-df-convert {\n",
              "      background-color: #E8F0FE;\n",
              "      border: none;\n",
              "      border-radius: 50%;\n",
              "      cursor: pointer;\n",
              "      display: none;\n",
              "      fill: #1967D2;\n",
              "      height: 32px;\n",
              "      padding: 0 0 0 0;\n",
              "      width: 32px;\n",
              "    }\n",
              "\n",
              "    .colab-df-convert:hover {\n",
              "      background-color: #E2EBFA;\n",
              "      box-shadow: 0px 1px 2px rgba(60, 64, 67, 0.3), 0px 1px 3px 1px rgba(60, 64, 67, 0.15);\n",
              "      fill: #174EA6;\n",
              "    }\n",
              "\n",
              "    [theme=dark] .colab-df-convert {\n",
              "      background-color: #3B4455;\n",
              "      fill: #D2E3FC;\n",
              "    }\n",
              "\n",
              "    [theme=dark] .colab-df-convert:hover {\n",
              "      background-color: #434B5C;\n",
              "      box-shadow: 0px 1px 3px 1px rgba(0, 0, 0, 0.15);\n",
              "      filter: drop-shadow(0px 1px 2px rgba(0, 0, 0, 0.3));\n",
              "      fill: #FFFFFF;\n",
              "    }\n",
              "  </style>\n",
              "\n",
              "      <script>\n",
              "        const buttonEl =\n",
              "          document.querySelector('#df-dae38ec0-2754-489a-a305-2b11c7ff3fb4 button.colab-df-convert');\n",
              "        buttonEl.style.display =\n",
              "          google.colab.kernel.accessAllowed ? 'block' : 'none';\n",
              "\n",
              "        async function convertToInteractive(key) {\n",
              "          const element = document.querySelector('#df-dae38ec0-2754-489a-a305-2b11c7ff3fb4');\n",
              "          const dataTable =\n",
              "            await google.colab.kernel.invokeFunction('convertToInteractive',\n",
              "                                                     [key], {});\n",
              "          if (!dataTable) return;\n",
              "\n",
              "          const docLinkHtml = 'Like what you see? Visit the ' +\n",
              "            '<a target=\"_blank\" href=https://colab.research.google.com/notebooks/data_table.ipynb>data table notebook</a>'\n",
              "            + ' to learn more about interactive tables.';\n",
              "          element.innerHTML = '';\n",
              "          dataTable['output_type'] = 'display_data';\n",
              "          await google.colab.output.renderOutput(dataTable, element);\n",
              "          const docLink = document.createElement('div');\n",
              "          docLink.innerHTML = docLinkHtml;\n",
              "          element.appendChild(docLink);\n",
              "        }\n",
              "      </script>\n",
              "    </div>\n",
              "  </div>\n",
              "  "
            ],
            "text/plain": [
              "                           review_id  rating\n",
              "0  16c32b9bb0142734c60f8b028f281c5dd       3\n",
              "1  1f86ec340856f1097c922d33aed48d4ea       5"
            ]
          },
          "execution_count": 115,
          "metadata": {},
          "output_type": "execute_result"
        }
      ],
      "source": [
        "reads_test2 = reads_test2[['review_id', 'rating']]\n",
        "reads_test2.head(2)"
      ]
    },
    {
      "cell_type": "code",
      "execution_count": 117,
      "metadata": {
        "id": "cyVR7q5jobOL"
      },
      "outputs": [],
      "source": [
        "reads_test2.to_csv('drive/My Drive/Colab Notebooks/results_cnn.csv', index=False)"
      ]
    },
    {
      "cell_type": "markdown",
      "metadata": {
        "id": "JiviuMYiLU1y"
      },
      "source": [
        "This basic CNN model gives an accuracy of 55% on the validation data. "
      ]
    },
    {
      "cell_type": "code",
      "execution_count": 118,
      "metadata": {
        "colab": {
          "base_uri": "https://localhost:8080/",
          "height": 469
        },
        "id": "zApxpNOrLmQz",
        "outputId": "0e4eedd1-5ab1-4210-fcf0-7248dd7c933d"
      },
      "outputs": [
        {
          "data": {
            "image/png": "[encoded data removed]",
            "text/plain": [
              "<Figure size 1200x500 with 2 Axes>"
            ]
          },
          "metadata": {},
          "output_type": "display_data"
        }
      ],
      "source": [
        "#Plotting accuracy and loss of the model\n",
        "import matplotlib.pyplot as plt\n",
        "plt.style.use('ggplot')\n",
        "\n",
        "def plot_history(history_cnn):\n",
        "    acc = history_cnn.history['accuracy']\n",
        "    val_acc = history_cnn.history['val_accuracy']\n",
        "    loss = history_cnn.history['loss']\n",
        "    val_loss = history_cnn.history['val_loss']\n",
        "    x = range(1, len(acc) + 1)\n",
        "\n",
        "    plt.figure(figsize=(12, 5))\n",
        "    plt.subplot(1, 2, 1)\n",
        "    plt.plot(x, acc, 'b', label='Training acc')\n",
        "    plt.plot(x, val_acc, 'r', label='Validation acc')\n",
        "    plt.title('Training and validation accuracy')\n",
        "    plt.legend()\n",
        "    plt.subplot(1, 2, 2)\n",
        "    plt.plot(x, loss, 'b', label='Training loss')\n",
        "    plt.plot(x, val_loss, 'r', label='Validation loss')\n",
        "    plt.title('Training and validation loss')\n",
        "    plt.legend()\n",
        "\n",
        "plot_history(history_cnn)"
      ]
    },
    {
      "cell_type": "markdown",
      "metadata": {
        "id": "YmCt72kyjt0J"
      },
      "source": [
        "**#Basic CNN model + 1 dropout layer**\n"
      ]
    },
    {
      "cell_type": "code",
      "execution_count": 119,
      "metadata": {
        "colab": {
          "base_uri": "https://localhost:8080/",
          "height": 0
        },
        "id": "E7YbGIXfpnmT",
        "outputId": "4d6c56a9-1e4f-40f5-f4e0-df28902ada24"
      },
      "outputs": [
        {
          "name": "stderr",
          "output_type": "stream",
          "text": [
            "Exception ignored in: <function _xla_gc_callback at 0x7fa4ae1a6ee0>\n",
            "Traceback (most recent call last):\n",
            "  File \"/usr/local/lib/python3.9/dist-packages/jax/_src/lib/__init__.py\", line 97, in _xla_gc_callback\n",
            "    def _xla_gc_callback(*args):\n",
            "KeyboardInterrupt: \n"
          ]
        },
        {
          "name": "stdout",
          "output_type": "stream",
          "text": [
            "Model: \"sequential_17\"\n",
            "_________________________________________________________________\n",
            " Layer (type)                Output Shape              Param #   \n",
            "=================================================================\n",
            " embedding_17 (Embedding)    (None, 200, 50)           15714600  \n",
            "                                                                 \n",
            " conv1d_6 (Conv1D)           (None, 196, 128)          32128     \n",
            "                                                                 \n",
            " global_max_pooling1d_6 (Glo  (None, 128)              0         \n",
            " balMaxPooling1D)                                                \n",
            "                                                                 \n",
            " dropout (Dropout)           (None, 128)               0         \n",
            "                                                                 \n",
            " dense_34 (Dense)            (None, 64)                8256      \n",
            "                                                                 \n",
            " dense_35 (Dense)            (None, 6)                 390       \n",
            "                                                                 \n",
            "=================================================================\n",
            "Total params: 15,755,374\n",
            "Trainable params: 15,755,374\n",
            "Non-trainable params: 0\n",
            "_________________________________________________________________\n",
            "Epoch 1/10\n",
            "8400/8400 [==============================] - 432s 51ms/step - loss: 1.4455 - accuracy: 0.3484 - val_loss: 1.4329 - val_accuracy: 0.3488\n",
            "Epoch 2/10\n",
            "8400/8400 [==============================] - 395s 47ms/step - loss: 1.4180 - accuracy: 0.3629 - val_loss: 1.3828 - val_accuracy: 0.3860\n",
            "Epoch 3/10\n",
            "8400/8400 [==============================] - 384s 46ms/step - loss: 1.3492 - accuracy: 0.4047 - val_loss: 1.3006 - val_accuracy: 0.4315\n",
            "Epoch 4/10\n",
            "8400/8400 [==============================] - 373s 44ms/step - loss: 1.2678 - accuracy: 0.4454 - val_loss: 1.2172 - val_accuracy: 0.4692\n",
            "Epoch 5/10\n",
            "8400/8400 [==============================] - 368s 44ms/step - loss: 1.1983 - accuracy: 0.4761 - val_loss: 1.1587 - val_accuracy: 0.4931\n",
            "Epoch 6/10\n",
            "8400/8400 [==============================] - 381s 45ms/step - loss: 1.1525 - accuracy: 0.4971 - val_loss: 1.1259 - val_accuracy: 0.5076\n",
            "Epoch 7/10\n",
            "8400/8400 [==============================] - 379s 45ms/step - loss: 1.1201 - accuracy: 0.5122 - val_loss: 1.0947 - val_accuracy: 0.5225\n",
            "Epoch 8/10\n",
            "8400/8400 [==============================] - 370s 44ms/step - loss: 1.0976 - accuracy: 0.5226 - val_loss: 1.0771 - val_accuracy: 0.5306\n",
            "Epoch 9/10\n",
            "8400/8400 [==============================] - 364s 43ms/step - loss: 1.0805 - accuracy: 0.5306 - val_loss: 1.0640 - val_accuracy: 0.5367\n",
            "Epoch 10/10\n",
            "8400/8400 [==============================] - 366s 44ms/step - loss: 1.0664 - accuracy: 0.5373 - val_loss: 1.0605 - val_accuracy: 0.5369\n"
          ]
        }
      ],
      "source": [
        "#Basic CNN model + 1 dropout layer\n",
        "embedding_dim = 50\n",
        "\n",
        "modelcnn1 = Sequential()\n",
        "modelcnn1.add(layers.Embedding(input_dim=vocab_size, \n",
        "                           output_dim=embedding_dim, \n",
        "                           input_length=maxlen))\n",
        "modelcnn1.add(layers.Conv1D(128, 5, activation='relu'))\n",
        "modelcnn1.add(layers.GlobalMaxPooling1D())\n",
        "modelcnn1.add(layers.Dropout(0.3))\n",
        "modelcnn1.add(layers.Dense(64, activation='relu'))\n",
        "modelcnn1.add(layers.Dense(6, activation='softmax'))\n",
        "\n",
        "optz= SGD(learning_rate=0.01)\n",
        "modelcnn1.compile(optimizer=optz,\n",
        "              loss=tf.keras.losses.SparseCategoricalCrossentropy(),\n",
        "              metrics=['accuracy'])\n",
        "modelcnn1.summary()\n",
        "history_cnn1 = modelcnn1.fit(x_train, y_train, epochs=10, validation_data=(x_val, y_val), batch_size=50, callbacks=[early_stopping])\n"
      ]
    },
    {
      "cell_type": "markdown",
      "metadata": {
        "id": "SumC_K91wPz-"
      },
      "source": [
        "The basic cnn model +1 dropout layer doesn't seem to be improving accuracy than the cnn model without any dropout layers."
      ]
    },
    {
      "cell_type": "code",
      "execution_count": 11,
      "metadata": {
        "colab": {
          "base_uri": "https://localhost:8080/"
        },
        "id": "6gDIeLX7ujJc",
        "outputId": "20cb5750-181b-4998-ec4b-2091f780498b"
      },
      "outputs": [
        {
          "name": "stdout",
          "output_type": "stream",
          "text": [
            "Model: \"sequential\"\n",
            "_________________________________________________________________\n",
            " Layer (type)                Output Shape              Param #   \n",
            "=================================================================\n",
            " embedding (Embedding)       (None, 200, 50)           15714600  \n",
            "                                                                 \n",
            " conv1d (Conv1D)             (None, 196, 128)          32128     \n",
            "                                                                 \n",
            " global_max_pooling1d (Globa  (None, 128)              0         \n",
            " lMaxPooling1D)                                                  \n",
            "                                                                 \n",
            " dropout (Dropout)           (None, 128)               0         \n",
            "                                                                 \n",
            " dense (Dense)               (None, 64)                8256      \n",
            "                                                                 \n",
            " dropout_1 (Dropout)         (None, 64)                0         \n",
            "                                                                 \n",
            " dense_1 (Dense)             (None, 32)                2080      \n",
            "                                                                 \n",
            " dense_2 (Dense)             (None, 6)                 198       \n",
            "                                                                 \n",
            "=================================================================\n",
            "Total params: 15,757,262\n",
            "Trainable params: 15,757,262\n",
            "Non-trainable params: 0\n",
            "_________________________________________________________________\n",
            "Epoch 1/10\n",
            "8400/8400 [==============================] - 435s 52ms/step - loss: 1.4469 - accuracy: 0.3479 - val_loss: 1.4358 - val_accuracy: 0.3507\n",
            "Epoch 2/10\n",
            "8400/8400 [==============================] - 423s 50ms/step - loss: 1.4278 - accuracy: 0.3565 - val_loss: 1.3988 - val_accuracy: 0.3780\n",
            "Epoch 3/10\n",
            "8400/8400 [==============================] - 415s 49ms/step - loss: 1.3501 - accuracy: 0.4021 - val_loss: 1.2708 - val_accuracy: 0.4477\n",
            "Epoch 4/10\n",
            "8400/8400 [==============================] - 415s 49ms/step - loss: 1.2271 - accuracy: 0.4636 - val_loss: 1.1506 - val_accuracy: 0.4982\n",
            "Epoch 5/10\n",
            "8400/8400 [==============================] - 425s 51ms/step - loss: 1.1410 - accuracy: 0.5029 - val_loss: 1.0897 - val_accuracy: 0.5230\n",
            "Epoch 6/10\n",
            "8400/8400 [==============================] - 415s 49ms/step - loss: 1.0931 - accuracy: 0.5239 - val_loss: 1.0592 - val_accuracy: 0.5411\n",
            "Epoch 7/10\n",
            "8400/8400 [==============================] - 413s 49ms/step - loss: 1.0638 - accuracy: 0.5387 - val_loss: 1.0370 - val_accuracy: 0.5513\n",
            "Epoch 8/10\n",
            "8400/8400 [==============================] - 414s 49ms/step - loss: 1.0427 - accuracy: 0.5479 - val_loss: 1.0209 - val_accuracy: 0.5577\n",
            "Epoch 9/10\n",
            "8400/8400 [==============================] - 415s 49ms/step - loss: 1.0266 - accuracy: 0.5554 - val_loss: 1.0161 - val_accuracy: 0.5610\n"
          ]
        }
      ],
      "source": [
        "#Basic CNN model + 2 dropout layers + 2 Dense layer\n",
        "embedding_dim = 50\n",
        "early_stopping = tf.keras.callbacks.EarlyStopping(monitor='val_loss', min_delta=0.01)\n",
        "\n",
        "modelcnn2 = Sequential()\n",
        "modelcnn2.add(layers.Embedding(input_dim=vocab_size, \n",
        "                           output_dim=embedding_dim, \n",
        "                           input_length=maxlen))\n",
        "modelcnn2.add(layers.Conv1D(128, 5, activation='relu'))\n",
        "modelcnn2.add(layers.GlobalMaxPooling1D())\n",
        "modelcnn2.add(layers.Dropout(0.2))\n",
        "modelcnn2.add(layers.Dense(64, activation='relu'))\n",
        "modelcnn2.add(layers.Dropout(0.2))\n",
        "modelcnn2.add(layers.Dense(32, activation='relu'))\n",
        "modelcnn2.add(layers.Dense(6, activation='softmax'))\n",
        "\n",
        "optz= SGD(learning_rate=0.01)\n",
        "modelcnn2.compile(optimizer=optz,\n",
        "              loss=tf.keras.losses.SparseCategoricalCrossentropy(),\n",
        "              metrics=['accuracy'])\n",
        "modelcnn2.summary()\n",
        "history_cnn2 = modelcnn2.fit(x_train, y_train, epochs=10, validation_data=(x_val, y_val), batch_size=50, callbacks=[early_stopping])"
      ]
    },
    {
      "cell_type": "markdown",
      "metadata": {
        "id": "SmY1FFyHwghf"
      },
      "source": [
        "The basic CNN model + 2 dropout layers + 2 Dense layer seems to be performing better than the basic cnn model, with a validation accuracy of 56%. In the test set in kaggle, it gives an accuracy of 51.6%. "
      ]
    },
    {
      "cell_type": "code",
      "execution_count": 15,
      "metadata": {
        "colab": {
          "base_uri": "https://localhost:8080/"
        },
        "id": "duEipGdEIGXk",
        "outputId": "5153bcc7-7f62-4eab-8737-b514202ef6f6"
      },
      "outputs": [
        {
          "name": "stdout",
          "output_type": "stream",
          "text": [
            "6250/6250 [==============================] - 61s 10ms/step\n"
          ]
        }
      ],
      "source": [
        "#Predicting in CNN3 model\n",
        "\n",
        "reads_test4 = reads_test\n",
        "x_test=reads_test4['review_text']\n",
        "\n",
        "# Tokenization of the real testing data\n",
        "x_test = tokenizer.texts_to_sequences(x_test)\n",
        "x_test = pad_sequences(x_test, padding='post', maxlen=maxlen)\n",
        "\n",
        "#Predicting ratings \n",
        "cnn2_predictions = modelcnn2.predict(x_test)\n",
        "cnn2_predictions= np.argmax(cnn2_predictions, axis=1)\n",
        "cnn2_predictions.shape\n",
        "\n",
        "reads_test4['rating']=cnn2_predictions.tolist()\n",
        "reads_test4 = reads_test4[['review_id', 'rating']]\n",
        "\n",
        "reads_test4.to_csv('drive/My Drive/Colab Notebooks/results_cnn2.csv', index=False)"
      ]
    },
    {
      "cell_type": "markdown",
      "metadata": {
        "id": "x_yg7MEZ4b9z"
      },
      "source": [
        "**Testing performance on the basis of activation functions in the output layer - sigmoid and softmax functions**"
      ]
    },
    {
      "cell_type": "code",
      "execution_count": 14,
      "metadata": {
        "id": "OAgotuuEq_e3"
      },
      "outputs": [],
      "source": [
        "activation_functions = ['softmax', 'sigmoid']\n",
        "test_outcomesact =[]\n",
        "loss_functionact =[]"
      ]
    },
    {
      "cell_type": "code",
      "execution_count": null,
      "metadata": {
        "id": "vJJBAQwKl36d"
      },
      "outputs": [],
      "source": [
        "#Respecifying x and y split \n",
        "x_train1, x_test1, y_train, y_test = train_test_split(x, y, test_size=0.2, random_state=42)\n",
        "x_train1, x_val1, y_train, y_val = train_test_split(x_train1, y_train, test_size=0.25, random_state=42) # Here validation data is 0.25 x 0.8 = 0.2 of the total data\n",
        "\n",
        "#Re-processing training and validation data before running our models\n",
        "tokenizer = Tokenizer(num_words=5000)\n",
        "tokenizer.fit_on_texts(x)\n",
        "x_train = tokenizer.texts_to_sequences(x_train1)\n",
        "x_test = tokenizer.texts_to_sequences(x_test1)\n",
        "x_val = tokenizer.texts_to_sequences(x_val1)\n",
        "vocab_size = len(tokenizer.word_index) + 1  # Since there is an index 0, adding 1 \n",
        "\n",
        "maxlen = 200\n",
        "x_train = pad_sequences(x_train, padding='post', maxlen=maxlen)\n",
        "x_test = pad_sequences(x_test, padding='post', maxlen=maxlen)\n",
        "x_val = pad_sequences(x_val, padding='post', maxlen=maxlen)\n"
      ]
    },
    {
      "cell_type": "code",
      "execution_count": 16,
      "metadata": {
        "colab": {
          "base_uri": "https://localhost:8080/"
        },
        "id": "HudGvp9g7bX5",
        "outputId": "a1eb4fe9-176a-4aa1-b2c0-d592df0d9629"
      },
      "outputs": [
        {
          "name": "stdout",
          "output_type": "stream",
          "text": [
            "Model: \"sequential_1\"\n",
            "_________________________________________________________________\n",
            " Layer (type)                Output Shape              Param #   \n",
            "=================================================================\n",
            " embedding_1 (Embedding)     (None, 200, 50)           15714600  \n",
            "                                                                 \n",
            " conv1d_1 (Conv1D)           (None, 196, 128)          32128     \n",
            "                                                                 \n",
            " global_max_pooling1d_1 (Glo  (None, 128)              0         \n",
            " balMaxPooling1D)                                                \n",
            "                                                                 \n",
            " dropout_1 (Dropout)         (None, 128)               0         \n",
            "                                                                 \n",
            " dense_2 (Dense)             (None, 64)                8256      \n",
            "                                                                 \n",
            " dense_3 (Dense)             (None, 6)                 390       \n",
            "                                                                 \n",
            "=================================================================\n",
            "Total params: 15,755,374\n",
            "Trainable params: 15,755,374\n",
            "Non-trainable params: 0\n",
            "_________________________________________________________________\n",
            "Epoch 1/6\n",
            "8400/8400 [==============================] - 720s 86ms/step - loss: 1.4450 - accuracy: 0.3478 - val_loss: 1.4289 - val_accuracy: 0.3515\n",
            "Epoch 2/6\n",
            "8400/8400 [==============================] - 658s 78ms/step - loss: 1.3989 - accuracy: 0.3739 - val_loss: 1.3581 - val_accuracy: 0.4032\n",
            "Epoch 3/6\n",
            "8400/8400 [==============================] - 651s 78ms/step - loss: 1.3203 - accuracy: 0.4228 - val_loss: 1.2601 - val_accuracy: 0.4534\n",
            "Epoch 4/6\n",
            "8400/8400 [==============================] - 625s 74ms/step - loss: 1.2265 - accuracy: 0.4663 - val_loss: 1.1691 - val_accuracy: 0.4912\n",
            "Epoch 5/6\n",
            "8400/8400 [==============================] - 707s 84ms/step - loss: 1.1569 - accuracy: 0.4967 - val_loss: 1.1161 - val_accuracy: 0.5142\n",
            "Epoch 6/6\n",
            "8400/8400 [==============================] - 645s 77ms/step - loss: 1.1150 - accuracy: 0.5155 - val_loss: 1.0837 - val_accuracy: 0.5328\n",
            "4375/4375 [==============================] - 72s 16ms/step - loss: 1.0830 - accuracy: 0.5329\n",
            "Model: \"sequential_2\"\n",
            "_________________________________________________________________\n",
            " Layer (type)                Output Shape              Param #   \n",
            "=================================================================\n",
            " embedding_2 (Embedding)     (None, 200, 50)           15714600  \n",
            "                                                                 \n",
            " conv1d_2 (Conv1D)           (None, 196, 128)          32128     \n",
            "                                                                 \n",
            " global_max_pooling1d_2 (Glo  (None, 128)              0         \n",
            " balMaxPooling1D)                                                \n",
            "                                                                 \n",
            " dropout_2 (Dropout)         (None, 128)               0         \n",
            "                                                                 \n",
            " dense_4 (Dense)             (None, 64)                8256      \n",
            "                                                                 \n",
            " dense_5 (Dense)             (None, 6)                 390       \n",
            "                                                                 \n",
            "=================================================================\n",
            "Total params: 15,755,374\n",
            "Trainable params: 15,755,374\n",
            "Non-trainable params: 0\n",
            "_________________________________________________________________\n",
            "Epoch 1/6\n",
            "8400/8400 [==============================] - 668s 79ms/step - loss: 1.4456 - accuracy: 0.3479 - val_loss: 1.4287 - val_accuracy: 0.3537\n",
            "Epoch 2/6\n",
            "8400/8400 [==============================] - 656s 78ms/step - loss: 1.4004 - accuracy: 0.3736 - val_loss: 1.3586 - val_accuracy: 0.4043\n",
            "Epoch 3/6\n",
            "8400/8400 [==============================] - 647s 77ms/step - loss: 1.3225 - accuracy: 0.4201 - val_loss: 1.2596 - val_accuracy: 0.4577\n",
            "Epoch 4/6\n",
            "8400/8400 [==============================] - 658s 78ms/step - loss: 1.2308 - accuracy: 0.4659 - val_loss: 1.1767 - val_accuracy: 0.4898\n",
            "Epoch 5/6\n",
            "8400/8400 [==============================] - 630s 75ms/step - loss: 1.1653 - accuracy: 0.4936 - val_loss: 1.1255 - val_accuracy: 0.5107\n",
            "Epoch 6/6\n",
            "8400/8400 [==============================] - 620s 74ms/step - loss: 1.1226 - accuracy: 0.5116 - val_loss: 1.0890 - val_accuracy: 0.5288\n",
            "4375/4375 [==============================] - 60s 14ms/step - loss: 1.0889 - accuracy: 0.5286\n"
          ]
        }
      ],
      "source": [
        "early_stopping = tf.keras.callbacks.EarlyStopping(monitor='val_loss', min_delta=0.01)\n",
        "\n",
        "for act in activation_functions:\n",
        "      #Basic CNN model + 1 dropout layer\n",
        "      embedding_dim = 50\n",
        "\n",
        "      modelact = Sequential()\n",
        "      modelact.add(layers.Embedding(input_dim=vocab_size, \n",
        "                           output_dim=embedding_dim, \n",
        "                           input_length=maxlen))\n",
        "      modelact.add(layers.Conv1D(128, 5, activation='relu'))\n",
        "      modelact.add(layers.GlobalMaxPooling1D())\n",
        "      modelact.add(layers.Dropout(0.3))\n",
        "      modelact.add(layers.Dense(64, activation='relu'))\n",
        "      modelact.add(layers.Dense(6, activation=act))\n",
        "\n",
        "      optz= SGD(learning_rate=0.01)\n",
        "      modelact.compile(optimizer=optz,\n",
        "                    loss=tf.keras.losses.SparseCategoricalCrossentropy(),\n",
        "                    metrics=['accuracy'])\n",
        "      modelact.summary()\n",
        "      history_modelact = modelact.fit(x_train, y_train, epochs=6, validation_data=(x_val, y_val), batch_size=50, callbacks=[early_stopping])\n",
        "\n",
        "      # Get accuracy from test data\n",
        "      test_accuracyact = modelact.evaluate(x_test, y_test)\n",
        "\n",
        "      # Append accuracy scores to the test outcomes list\n",
        "      test_outcomesact.append(test_accuracyact[1])\n",
        "      loss_functionact.append(test_accuracyact[0])"
      ]
    },
    {
      "cell_type": "code",
      "execution_count": 25,
      "metadata": {
        "colab": {
          "base_uri": "https://localhost:8080/",
          "height": 561
        },
        "id": "tM1DtTLC11Tw",
        "outputId": "20b71136-9cec-4e90-9ea0-0c9395d487fa"
      },
      "outputs": [
        {
          "name": "stderr",
          "output_type": "stream",
          "text": [
            "<ipython-input-25-243e2b5d3bad>:4: MatplotlibDeprecationWarning: Auto-removal of overlapping axes is deprecated since 3.6 and will be removed two minor releases later; explicitly call ax.remove() as needed.\n",
            "  plt.subplot(1, 2, 1)\n"
          ]
        },
        {
          "data": {
            "text/plain": [
              "<matplotlib.legend.Legend at 0x7fbec86ed700>"
            ]
          },
          "execution_count": 25,
          "metadata": {},
          "output_type": "execute_result"
        },
        {
          "data": {
            "image/png": "[encoded data removed]",
            "text/plain": [
              "<Figure size 1200x500 with 2 Axes>"
            ]
          },
          "metadata": {},
          "output_type": "display_data"
        }
      ],
      "source": [
        "#Bar plot of accuracy and loss from different activation functions \n",
        "plt.figure(figsize=(12, 5))\n",
        "plt.title(\"Performance levels of CNN models with different activation functions\")\n",
        "plt.subplot(1, 2, 1)\n",
        "plt.bar(activation_functions, test_outcomesact, label='Accuracy score', color='g')\n",
        "plt.yticks([0,0.05,0.1,0.15,0.2,.25,.30,.35,.40,.45,.50,.55])\n",
        "\n",
        "plt.title('Testing accuracy')\n",
        "plt.xlabel(\"Type of activation function in the output layer\")\n",
        "plt.legend()\n",
        "\n",
        "plt.subplot(1, 2, 2)\n",
        "plt.bar(activation_functions, loss_functionact, label='Loss value', color='b')\n",
        "plt.yticks([0,0.1,0.2,.30,.40,.50,0.6,0.7,0.8,0.9,1])\n",
        "plt.xlabel(\"Type of activation function in the output layer\")\n",
        "plt.title('Testing loss')\n",
        "plt.legend()"
      ]
    },
    {
      "cell_type": "markdown",
      "metadata": {
        "id": "dnW14WzNGaQ8"
      },
      "source": [
        "We can see that both the accuracy and loss scores seem to be almost similar in the cnn model with 6 epochs run. So in terms of performance, it would appear that both activation functions are similar. However, for a multilabel classifification problem such as this, heuritics suggest that we use softmax as the predicted probabilities of each label is dependant on others. That is, for the probability of an output to be one label increasing, the predicted probability of it being all other labels should decrease. \n",
        "\n",
        "https://glassboxmedicine.com/2019/05/26/classification-sigmoid-vs-softmax/ "
      ]
    },
    {
      "cell_type": "markdown",
      "metadata": {
        "id": "WPxfusUK_kXB"
      },
      "source": [
        "# Recurrent Neural Network\n",
        "\n",
        "#LSTM\n",
        "\n",
        "Lastly, for complex model, we tried LSTM. We tried BERT as well, however, it was taking a lot of processing time, and hence we could not get the results as our notebooks were crashing in runtime. "
      ]
    },
    {
      "cell_type": "code",
      "execution_count": 123,
      "metadata": {
        "colab": {
          "base_uri": "https://localhost:8080/"
        },
        "id": "Oq_H2CCf8pxN",
        "outputId": "2efbceae-505a-4e52-e34b-d05c9486adbe"
      },
      "outputs": [
        {
          "name": "stdout",
          "output_type": "stream",
          "text": [
            "Model: \"sequential_19\"\n",
            "_________________________________________________________________\n",
            " Layer (type)                Output Shape              Param #   \n",
            "=================================================================\n",
            " embedding_19 (Embedding)    (None, 200, 50)           15714600  \n",
            "                                                                 \n",
            " dropout_3 (Dropout)         (None, 200, 50)           0         \n",
            "                                                                 \n",
            " lstm (LSTM)                 (None, 128)               91648     \n",
            "                                                                 \n",
            " dropout_4 (Dropout)         (None, 128)               0         \n",
            "                                                                 \n",
            " dense_39 (Dense)            (None, 64)                8256      \n",
            "                                                                 \n",
            " dropout_5 (Dropout)         (None, 64)                0         \n",
            "                                                                 \n",
            " dense_40 (Dense)            (None, 6)                 390       \n",
            "                                                                 \n",
            "=================================================================\n",
            "Total params: 15,814,894\n",
            "Trainable params: 15,814,894\n",
            "Non-trainable params: 0\n",
            "_________________________________________________________________\n",
            "Epoch 1/10\n",
            "2100/2100 [==============================] - 1297s 617ms/step - loss: 1.4889 - accuracy: 0.3407 - val_loss: 1.4467 - val_accuracy: 0.3475\n",
            "Epoch 2/10\n",
            "2100/2100 [==============================] - 1295s 617ms/step - loss: 1.4493 - accuracy: 0.3412 - val_loss: 1.4429 - val_accuracy: 0.3475\n"
          ]
        }
      ],
      "source": [
        "#Basic LSTM model\n",
        "embedding_dim = 50\n",
        "\n",
        "modellstm = Sequential()\n",
        "modellstm.add(layers.Embedding(input_dim=vocab_size, \n",
        "                           output_dim=embedding_dim, \n",
        "                           input_length=maxlen))\n",
        "modellstm.add(layers.Dropout(0.2))\n",
        "modellstm.add(layers.LSTM(128,activation='relu'))\n",
        "modellstm.add(layers.Dropout(0.2))\n",
        "modellstm.add(layers.Dense(64, activation='relu'))\n",
        "modellstm.add(layers.Dropout(0.2))\n",
        "modellstm.add(layers.Dense(6, activation='softmax'))\n",
        "\n",
        "optz= SGD(learning_rate=0.01)\n",
        "modellstm.compile(optimizer=optz,\n",
        "              loss=tf.keras.losses.SparseCategoricalCrossentropy(),\n",
        "              metrics=['accuracy'])\n",
        "modellstm.summary()\n",
        "history_lstm = modellstm.fit(x_train, y_train, epochs=10, validation_data=(x_val, y_val), batch_size=200, callbacks=[early_stopping])"
      ]
    },
    {
      "cell_type": "markdown",
      "metadata": {
        "id": "RJSchyxfIjM2"
      },
      "source": [
        "The basic LSTM model seems to be performing quite bad in terms of accuracy, as compared to our more deeper models. However, this might be because we havent used appropriate layers, and neurons, and other hyperparameters. We tried to do more exploration around this, however for want of processing speed, we were not able to perform much. Our systems were crashing. With better processing speeds, we believe we could have gotten a better model. "
      ]
    },
    {
      "cell_type": "markdown",
      "metadata": {
        "id": "4JAqSOOikKan"
      },
      "source": [
        "# References\n",
        "\n",
        "Bengio, Y. (2012). Practical recommendations for gradient-based training of deep architectures. Neural Networks: Tricks of the Trade: Second Edition, 437-478.\n",
        "\n",
        "Keskar, N and Socher, R. (2017). Improving Generalization Performance by Switching from Adam to SGD. "
      ]
    }
  ],
  "metadata": {
    "colab": {
      "provenance": []
    },
    "kernelspec": {
      "display_name": "Python 3",
      "name": "python3"
    },
    "language_info": {
      "name": "python"
    }
  },
  "nbformat": 4,
  "nbformat_minor": 0
}
